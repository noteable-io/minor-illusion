{
 "cells": [
  {
   "cell_type": "markdown",
   "id": "51bc8021",
   "metadata": {},
   "source": [
    "# Overview\n",
    "\n",
    "This Notebook demonstrates a minimal example of querying the cockroach database using the engine, session, and models defined in the backend code.  The backend code is being read-only volume mounted to `/home/jovyan/backend`, and that directory has been added to the `PYTHONPATH` environment variable.  Imports should \"just work\"."
   ]
  },
  {
   "cell_type": "code",
   "execution_count": 1,
   "id": "826ae357",
   "metadata": {
    "ExecuteTime": {
     "end_time": "2021-11-06T20:25:47.260003Z",
     "start_time": "2021-11-06T20:25:47.159881Z"
    }
   },
   "outputs": [
    {
     "data": {
      "application/javascript": [
       "\n",
       "            setTimeout(function() {\n",
       "                var nbb_cell_id = 1;\n",
       "                var nbb_unformatted_code = \"%load_ext nb_black\";\n",
       "                var nbb_formatted_code = \"%load_ext nb_black\";\n",
       "                var nbb_cells = Jupyter.notebook.get_cells();\n",
       "                for (var i = 0; i < nbb_cells.length; ++i) {\n",
       "                    if (nbb_cells[i].input_prompt_number == nbb_cell_id) {\n",
       "                        if (nbb_cells[i].get_text() == nbb_unformatted_code) {\n",
       "                             nbb_cells[i].set_text(nbb_formatted_code);\n",
       "                        }\n",
       "                        break;\n",
       "                    }\n",
       "                }\n",
       "            }, 500);\n",
       "            "
      ],
      "text/plain": [
       "<IPython.core.display.Javascript object>"
      ]
     },
     "metadata": {},
     "output_type": "display_data"
    }
   ],
   "source": [
    "%load_ext nb_black"
   ]
  },
  {
   "cell_type": "code",
   "execution_count": 2,
   "id": "ef9ea84d",
   "metadata": {
    "ExecuteTime": {
     "end_time": "2021-11-06T20:25:47.665475Z",
     "start_time": "2021-11-06T20:25:47.262817Z"
    }
   },
   "outputs": [
    {
     "data": {
      "application/javascript": [
       "\n",
       "            setTimeout(function() {\n",
       "                var nbb_cell_id = 2;\n",
       "                var nbb_unformatted_code = \"import logging\\n\\nlogging.basicConfig()\\nlogger = logging.getLogger(\\\"sqlalchemy.engine\\\")\\nlogger.propagate = True\\nlogger.setLevel(logging.INFO)\";\n",
       "                var nbb_formatted_code = \"import logging\\n\\nlogging.basicConfig()\\nlogger = logging.getLogger(\\\"sqlalchemy.engine\\\")\\nlogger.propagate = True\\nlogger.setLevel(logging.INFO)\";\n",
       "                var nbb_cells = Jupyter.notebook.get_cells();\n",
       "                for (var i = 0; i < nbb_cells.length; ++i) {\n",
       "                    if (nbb_cells[i].input_prompt_number == nbb_cell_id) {\n",
       "                        if (nbb_cells[i].get_text() == nbb_unformatted_code) {\n",
       "                             nbb_cells[i].set_text(nbb_formatted_code);\n",
       "                        }\n",
       "                        break;\n",
       "                    }\n",
       "                }\n",
       "            }, 500);\n",
       "            "
      ],
      "text/plain": [
       "<IPython.core.display.Javascript object>"
      ]
     },
     "metadata": {},
     "output_type": "display_data"
    }
   ],
   "source": [
    "import logging\n",
    "\n",
    "logging.basicConfig()\n",
    "logger = logging.getLogger(\"sqlalchemy.engine\")\n",
    "logger.propagate = True\n",
    "logger.setLevel(logging.INFO)"
   ]
  },
  {
   "cell_type": "markdown",
   "id": "e607783e",
   "metadata": {},
   "source": [
    "# Show backend engine"
   ]
  },
  {
   "cell_type": "code",
   "execution_count": 3,
   "id": "1910d2cb",
   "metadata": {
    "ExecuteTime": {
     "end_time": "2021-11-06T20:25:48.215061Z",
     "start_time": "2021-11-06T20:25:47.667743Z"
    }
   },
   "outputs": [
    {
     "data": {
      "text/plain": [
       "Engine(cockroachdb://root@cockroach:26257/defaultdb?sslmode=disable)"
      ]
     },
     "execution_count": 3,
     "metadata": {},
     "output_type": "execute_result"
    },
    {
     "data": {
      "application/javascript": [
       "\n",
       "            setTimeout(function() {\n",
       "                var nbb_cell_id = 3;\n",
       "                var nbb_unformatted_code = \"import sqlalchemy as sa\\nimport rich\\n\\nfrom app.db import engine, db_session\\nfrom app.models import UserDAO, TodoDAO\\n\\nengine\";\n",
       "                var nbb_formatted_code = \"import sqlalchemy as sa\\nimport rich\\n\\nfrom app.db import engine, db_session\\nfrom app.models import UserDAO, TodoDAO\\n\\nengine\";\n",
       "                var nbb_cells = Jupyter.notebook.get_cells();\n",
       "                for (var i = 0; i < nbb_cells.length; ++i) {\n",
       "                    if (nbb_cells[i].input_prompt_number == nbb_cell_id) {\n",
       "                        if (nbb_cells[i].get_text() == nbb_unformatted_code) {\n",
       "                             nbb_cells[i].set_text(nbb_formatted_code);\n",
       "                        }\n",
       "                        break;\n",
       "                    }\n",
       "                }\n",
       "            }, 500);\n",
       "            "
      ],
      "text/plain": [
       "<IPython.core.display.Javascript object>"
      ]
     },
     "metadata": {},
     "output_type": "display_data"
    }
   ],
   "source": [
    "import sqlalchemy as sa\n",
    "import rich\n",
    "\n",
    "from app.db import engine, db_session\n",
    "from app.models import UserDAO, TodoDAO\n",
    "\n",
    "engine"
   ]
  },
  {
   "cell_type": "markdown",
   "id": "00028bdc",
   "metadata": {},
   "source": [
    "# Query all Users"
   ]
  },
  {
   "cell_type": "code",
   "execution_count": 4,
   "id": "fb2ec2ab",
   "metadata": {
    "ExecuteTime": {
     "end_time": "2021-11-06T20:25:48.881933Z",
     "start_time": "2021-11-06T20:25:48.218319Z"
    }
   },
   "outputs": [
    {
     "name": "stderr",
     "output_type": "stream",
     "text": [
      "INFO:sqlalchemy.engine.Engine:select current_schema()\n",
      "INFO:sqlalchemy.engine.Engine:[raw sql] {}\n",
      "INFO:sqlalchemy.engine.Engine:select version()\n",
      "INFO:sqlalchemy.engine.Engine:[generated in 0.00120s] {}\n",
      "INFO:sqlalchemy.engine.Engine:SELECT crdb_internal.increment_feature_counter(%(val)s)\n",
      "INFO:sqlalchemy.engine.Engine:[generated in 0.00072s] {'val': 'sqlalchemy-cockroachdb 1.4.2'}\n",
      "INFO:sqlalchemy.engine.Engine:SELECT crdb_internal.increment_feature_counter(%(val)s)\n",
      "INFO:sqlalchemy.engine.Engine:[cached since 0.002703s ago] {'val': 'sqlalchemy 1.4'}\n",
      "INFO:sqlalchemy.engine.Engine:BEGIN (implicit)\n",
      "INFO:sqlalchemy.engine.Engine:SELECT users.id, users.created_at, users.name, users.password \n",
      "FROM users\n",
      "INFO:sqlalchemy.engine.Engine:[generated in 0.00209s] {}\n",
      "INFO:sqlalchemy.engine.Engine:COMMIT\n"
     ]
    },
    {
     "data": {
      "text/plain": [
       "[<app.models.UserDAO at 0x7f8806491190>,\n",
       " <app.models.UserDAO at 0x7f88064c1280>,\n",
       " <app.models.UserDAO at 0x7f88064c1e80>]"
      ]
     },
     "execution_count": 4,
     "metadata": {},
     "output_type": "execute_result"
    },
    {
     "data": {
      "application/javascript": [
       "\n",
       "            setTimeout(function() {\n",
       "                var nbb_cell_id = 4;\n",
       "                var nbb_unformatted_code = \"with db_session() as session:\\n    statement = sa.select(UserDAO)\\n    results = session.execute(statement)\\n    users = results.scalars().all()\\n\\nusers\";\n",
       "                var nbb_formatted_code = \"with db_session() as session:\\n    statement = sa.select(UserDAO)\\n    results = session.execute(statement)\\n    users = results.scalars().all()\\n\\nusers\";\n",
       "                var nbb_cells = Jupyter.notebook.get_cells();\n",
       "                for (var i = 0; i < nbb_cells.length; ++i) {\n",
       "                    if (nbb_cells[i].input_prompt_number == nbb_cell_id) {\n",
       "                        if (nbb_cells[i].get_text() == nbb_unformatted_code) {\n",
       "                             nbb_cells[i].set_text(nbb_formatted_code);\n",
       "                        }\n",
       "                        break;\n",
       "                    }\n",
       "                }\n",
       "            }, 500);\n",
       "            "
      ],
      "text/plain": [
       "<IPython.core.display.Javascript object>"
      ]
     },
     "metadata": {},
     "output_type": "display_data"
    }
   ],
   "source": [
    "with db_session() as session:\n",
    "    statement = sa.select(UserDAO)\n",
    "    results = session.execute(statement)\n",
    "    users = results.scalars().all()\n",
    "\n",
    "users"
   ]
  },
  {
   "cell_type": "code",
   "execution_count": 5,
   "id": "78727ae5",
   "metadata": {
    "ExecuteTime": {
     "end_time": "2021-11-06T20:25:48.975396Z",
     "start_time": "2021-11-06T20:25:48.884577Z"
    }
   },
   "outputs": [
    {
     "data": {
      "text/html": [
       "<pre style=\"white-space:pre;overflow-x:auto;line-height:normal;font-family:Menlo,'DejaVu Sans Mono',consolas,'Courier New',monospace\"><span style=\"font-weight: bold\">{</span>\n",
       "    <span style=\"color: #008000; text-decoration-color: #008000\">'_sa_instance_state'</span>: <span style=\"font-weight: bold\">&lt;</span><span style=\"color: #ff00ff; text-decoration-color: #ff00ff; font-weight: bold\">sqlalchemy.orm.state.InstanceState</span><span style=\"color: #000000; text-decoration-color: #000000\"> object at </span><span style=\"color: #008080; text-decoration-color: #008080; font-weight: bold\">0x7f88064918e0</span><span style=\"font-weight: bold\">&gt;</span>,\n",
       "    <span style=\"color: #008000; text-decoration-color: #008000\">'created_at'</span>: <span style=\"color: #800080; text-decoration-color: #800080; font-weight: bold\">datetime.datetime</span><span style=\"font-weight: bold\">(</span><span style=\"color: #008080; text-decoration-color: #008080; font-weight: bold\">2021</span>, <span style=\"color: #008080; text-decoration-color: #008080; font-weight: bold\">11</span>, <span style=\"color: #008080; text-decoration-color: #008080; font-weight: bold\">6</span>, <span style=\"color: #008080; text-decoration-color: #008080; font-weight: bold\">20</span>, <span style=\"color: #008080; text-decoration-color: #008080; font-weight: bold\">23</span>, <span style=\"color: #008080; text-decoration-color: #008080; font-weight: bold\">36</span>, <span style=\"color: #008080; text-decoration-color: #008080; font-weight: bold\">942734</span>, \n",
       "<span style=\"color: #808000; text-decoration-color: #808000\">tzinfo</span>=<span style=\"color: #800080; text-decoration-color: #800080\">datetime</span>.timezone.utc<span style=\"font-weight: bold\">)</span>,\n",
       "    <span style=\"color: #008000; text-decoration-color: #008000\">'password'</span>: <span style=\"color: #008000; text-decoration-color: #008000\">'pass'</span>,\n",
       "    <span style=\"color: #008000; text-decoration-color: #008000\">'id'</span>: <span style=\"color: #800080; text-decoration-color: #800080; font-weight: bold\">UUID</span><span style=\"font-weight: bold\">(</span><span style=\"color: #008000; text-decoration-color: #008000\">'3f58c723-69c9-4c4d-8dd8-4988d708f31b'</span><span style=\"font-weight: bold\">)</span>,\n",
       "    <span style=\"color: #008000; text-decoration-color: #008000\">'name'</span>: <span style=\"color: #008000; text-decoration-color: #008000\">'user3'</span>\n",
       "<span style=\"font-weight: bold\">}</span>\n",
       "</pre>\n"
      ],
      "text/plain": [
       "\u001b[1m{\u001b[0m\n",
       "    \u001b[32m'_sa_instance_state'\u001b[0m: \u001b[1m<\u001b[0m\u001b[1;95msqlalchemy.orm.state.InstanceState\u001b[0m\u001b[39m object at \u001b[0m\u001b[1;36m0x7f88064918e0\u001b[0m\u001b[1m>\u001b[0m,\n",
       "    \u001b[32m'created_at'\u001b[0m: \u001b[1;35mdatetime.datetime\u001b[0m\u001b[1m(\u001b[0m\u001b[1;36m2021\u001b[0m, \u001b[1;36m11\u001b[0m, \u001b[1;36m6\u001b[0m, \u001b[1;36m20\u001b[0m, \u001b[1;36m23\u001b[0m, \u001b[1;36m36\u001b[0m, \u001b[1;36m942734\u001b[0m, \n",
       "\u001b[33mtzinfo\u001b[0m=\u001b[35mdatetime\u001b[0m.timezone.utc\u001b[1m)\u001b[0m,\n",
       "    \u001b[32m'password'\u001b[0m: \u001b[32m'pass'\u001b[0m,\n",
       "    \u001b[32m'id'\u001b[0m: \u001b[1;35mUUID\u001b[0m\u001b[1m(\u001b[0m\u001b[32m'3f58c723-69c9-4c4d-8dd8-4988d708f31b'\u001b[0m\u001b[1m)\u001b[0m,\n",
       "    \u001b[32m'name'\u001b[0m: \u001b[32m'user3'\u001b[0m\n",
       "\u001b[1m}\u001b[0m\n"
      ]
     },
     "metadata": {},
     "output_type": "display_data"
    },
    {
     "data": {
      "application/javascript": [
       "\n",
       "            setTimeout(function() {\n",
       "                var nbb_cell_id = 5;\n",
       "                var nbb_unformatted_code = \"rich.print(users[0].__dict__)\";\n",
       "                var nbb_formatted_code = \"rich.print(users[0].__dict__)\";\n",
       "                var nbb_cells = Jupyter.notebook.get_cells();\n",
       "                for (var i = 0; i < nbb_cells.length; ++i) {\n",
       "                    if (nbb_cells[i].input_prompt_number == nbb_cell_id) {\n",
       "                        if (nbb_cells[i].get_text() == nbb_unformatted_code) {\n",
       "                             nbb_cells[i].set_text(nbb_formatted_code);\n",
       "                        }\n",
       "                        break;\n",
       "                    }\n",
       "                }\n",
       "            }, 500);\n",
       "            "
      ],
      "text/plain": [
       "<IPython.core.display.Javascript object>"
      ]
     },
     "metadata": {},
     "output_type": "display_data"
    }
   ],
   "source": [
    "rich.print(users[0].__dict__)"
   ]
  },
  {
   "cell_type": "code",
   "execution_count": 6,
   "id": "47195a18",
   "metadata": {
    "ExecuteTime": {
     "end_time": "2021-11-06T20:25:49.446173Z",
     "start_time": "2021-11-06T20:25:48.978367Z"
    }
   },
   "outputs": [
    {
     "name": "stdout",
     "output_type": "stream",
     "text": [
      "user3\n",
      "user2\n",
      "user1\n"
     ]
    },
    {
     "data": {
      "application/javascript": [
       "\n",
       "            setTimeout(function() {\n",
       "                var nbb_cell_id = 6;\n",
       "                var nbb_unformatted_code = \"for u in users:\\n    print(u.name)\";\n",
       "                var nbb_formatted_code = \"for u in users:\\n    print(u.name)\";\n",
       "                var nbb_cells = Jupyter.notebook.get_cells();\n",
       "                for (var i = 0; i < nbb_cells.length; ++i) {\n",
       "                    if (nbb_cells[i].input_prompt_number == nbb_cell_id) {\n",
       "                        if (nbb_cells[i].get_text() == nbb_unformatted_code) {\n",
       "                             nbb_cells[i].set_text(nbb_formatted_code);\n",
       "                        }\n",
       "                        break;\n",
       "                    }\n",
       "                }\n",
       "            }, 500);\n",
       "            "
      ],
      "text/plain": [
       "<IPython.core.display.Javascript object>"
      ]
     },
     "metadata": {},
     "output_type": "display_data"
    }
   ],
   "source": [
    "for u in users:\n",
    "    print(u.name)"
   ]
  },
  {
   "cell_type": "markdown",
   "id": "48d54ff1",
   "metadata": {},
   "source": [
    "# Query all Todos"
   ]
  },
  {
   "cell_type": "code",
   "execution_count": 7,
   "id": "ecf6648a",
   "metadata": {
    "ExecuteTime": {
     "end_time": "2021-11-06T20:25:49.860830Z",
     "start_time": "2021-11-06T20:25:49.448318Z"
    }
   },
   "outputs": [
    {
     "name": "stderr",
     "output_type": "stream",
     "text": [
      "INFO:sqlalchemy.engine.Engine:BEGIN (implicit)\n",
      "INFO:sqlalchemy.engine.Engine:SELECT todo.id, todo.created_at, todo.title, todo.content, todo.user_id, users_1.id AS id_1, users_1.created_at AS created_at_1, users_1.name, users_1.password \n",
      "FROM todo LEFT OUTER JOIN users AS users_1 ON users_1.id = todo.user_id\n",
      "INFO:sqlalchemy.engine.Engine:[generated in 0.00093s] {}\n",
      "INFO:sqlalchemy.engine.Engine:COMMIT\n"
     ]
    },
    {
     "data": {
      "text/plain": [
       "[<app.models.TodoDAO at 0x7f8806288af0>,\n",
       " <app.models.TodoDAO at 0x7f8806288bb0>,\n",
       " <app.models.TodoDAO at 0x7f8806288ca0>]"
      ]
     },
     "execution_count": 7,
     "metadata": {},
     "output_type": "execute_result"
    },
    {
     "data": {
      "application/javascript": [
       "\n",
       "            setTimeout(function() {\n",
       "                var nbb_cell_id = 7;\n",
       "                var nbb_unformatted_code = \"with db_session() as session:\\n    statement = sa.select(TodoDAO)\\n    results = session.execute(statement)\\n    todos = results.scalars().all()\\ntodos\";\n",
       "                var nbb_formatted_code = \"with db_session() as session:\\n    statement = sa.select(TodoDAO)\\n    results = session.execute(statement)\\n    todos = results.scalars().all()\\ntodos\";\n",
       "                var nbb_cells = Jupyter.notebook.get_cells();\n",
       "                for (var i = 0; i < nbb_cells.length; ++i) {\n",
       "                    if (nbb_cells[i].input_prompt_number == nbb_cell_id) {\n",
       "                        if (nbb_cells[i].get_text() == nbb_unformatted_code) {\n",
       "                             nbb_cells[i].set_text(nbb_formatted_code);\n",
       "                        }\n",
       "                        break;\n",
       "                    }\n",
       "                }\n",
       "            }, 500);\n",
       "            "
      ],
      "text/plain": [
       "<IPython.core.display.Javascript object>"
      ]
     },
     "metadata": {},
     "output_type": "display_data"
    }
   ],
   "source": [
    "with db_session() as session:\n",
    "    statement = sa.select(TodoDAO)\n",
    "    results = session.execute(statement)\n",
    "    todos = results.scalars().all()\n",
    "todos"
   ]
  },
  {
   "cell_type": "code",
   "execution_count": 8,
   "id": "450bd83f",
   "metadata": {
    "ExecuteTime": {
     "end_time": "2021-11-06T20:25:50.069294Z",
     "start_time": "2021-11-06T20:25:49.863053Z"
    }
   },
   "outputs": [
    {
     "data": {
      "text/html": [
       "<pre style=\"white-space:pre;overflow-x:auto;line-height:normal;font-family:Menlo,'DejaVu Sans Mono',consolas,'Courier New',monospace\"><span style=\"font-weight: bold\">{</span>\n",
       "    <span style=\"color: #008000; text-decoration-color: #008000\">'_sa_instance_state'</span>: <span style=\"font-weight: bold\">&lt;</span><span style=\"color: #ff00ff; text-decoration-color: #ff00ff; font-weight: bold\">sqlalchemy.orm.state.InstanceState</span><span style=\"color: #000000; text-decoration-color: #000000\"> object at </span><span style=\"color: #008080; text-decoration-color: #008080; font-weight: bold\">0x7f8806288b50</span><span style=\"font-weight: bold\">&gt;</span>,\n",
       "    <span style=\"color: #008000; text-decoration-color: #008000\">'content'</span>: <span style=\"color: #008000; text-decoration-color: #008000\">'Edit this Note'</span>,\n",
       "    <span style=\"color: #008000; text-decoration-color: #008000\">'id'</span>: <span style=\"color: #800080; text-decoration-color: #800080; font-weight: bold\">UUID</span><span style=\"font-weight: bold\">(</span><span style=\"color: #008000; text-decoration-color: #008000\">'6eea7c90-706e-445e-83e3-899a0d8a69c1'</span><span style=\"font-weight: bold\">)</span>,\n",
       "    <span style=\"color: #008000; text-decoration-color: #008000\">'created_at'</span>: <span style=\"color: #800080; text-decoration-color: #800080; font-weight: bold\">datetime.datetime</span><span style=\"font-weight: bold\">(</span><span style=\"color: #008080; text-decoration-color: #008080; font-weight: bold\">2021</span>, <span style=\"color: #008080; text-decoration-color: #008080; font-weight: bold\">11</span>, <span style=\"color: #008080; text-decoration-color: #008080; font-weight: bold\">6</span>, <span style=\"color: #008080; text-decoration-color: #008080; font-weight: bold\">20</span>, <span style=\"color: #008080; text-decoration-color: #008080; font-weight: bold\">23</span>, <span style=\"color: #008080; text-decoration-color: #008080; font-weight: bold\">37</span>, <span style=\"color: #008080; text-decoration-color: #008080; font-weight: bold\">861819</span>, \n",
       "<span style=\"color: #808000; text-decoration-color: #808000\">tzinfo</span>=<span style=\"color: #800080; text-decoration-color: #800080\">datetime</span>.timezone.utc<span style=\"font-weight: bold\">)</span>,\n",
       "    <span style=\"color: #008000; text-decoration-color: #008000\">'title'</span>: <span style=\"color: #008000; text-decoration-color: #008000\">'Note 2'</span>,\n",
       "    <span style=\"color: #008000; text-decoration-color: #008000\">'user_id'</span>: <span style=\"color: #800080; text-decoration-color: #800080; font-weight: bold\">UUID</span><span style=\"font-weight: bold\">(</span><span style=\"color: #008000; text-decoration-color: #008000\">'4fba08af-c292-499e-8278-32d46379d9f2'</span><span style=\"font-weight: bold\">)</span>,\n",
       "    <span style=\"color: #008000; text-decoration-color: #008000\">'user'</span>: <span style=\"font-weight: bold\">&lt;</span><span style=\"color: #ff00ff; text-decoration-color: #ff00ff; font-weight: bold\">app.models.UserDAO</span><span style=\"color: #000000; text-decoration-color: #000000\"> object at </span><span style=\"color: #008080; text-decoration-color: #008080; font-weight: bold\">0x7f8806288b80</span><span style=\"font-weight: bold\">&gt;</span>\n",
       "<span style=\"font-weight: bold\">}</span>\n",
       "</pre>\n"
      ],
      "text/plain": [
       "\u001b[1m{\u001b[0m\n",
       "    \u001b[32m'_sa_instance_state'\u001b[0m: \u001b[1m<\u001b[0m\u001b[1;95msqlalchemy.orm.state.InstanceState\u001b[0m\u001b[39m object at \u001b[0m\u001b[1;36m0x7f8806288b50\u001b[0m\u001b[1m>\u001b[0m,\n",
       "    \u001b[32m'content'\u001b[0m: \u001b[32m'Edit this Note'\u001b[0m,\n",
       "    \u001b[32m'id'\u001b[0m: \u001b[1;35mUUID\u001b[0m\u001b[1m(\u001b[0m\u001b[32m'6eea7c90-706e-445e-83e3-899a0d8a69c1'\u001b[0m\u001b[1m)\u001b[0m,\n",
       "    \u001b[32m'created_at'\u001b[0m: \u001b[1;35mdatetime.datetime\u001b[0m\u001b[1m(\u001b[0m\u001b[1;36m2021\u001b[0m, \u001b[1;36m11\u001b[0m, \u001b[1;36m6\u001b[0m, \u001b[1;36m20\u001b[0m, \u001b[1;36m23\u001b[0m, \u001b[1;36m37\u001b[0m, \u001b[1;36m861819\u001b[0m, \n",
       "\u001b[33mtzinfo\u001b[0m=\u001b[35mdatetime\u001b[0m.timezone.utc\u001b[1m)\u001b[0m,\n",
       "    \u001b[32m'title'\u001b[0m: \u001b[32m'Note 2'\u001b[0m,\n",
       "    \u001b[32m'user_id'\u001b[0m: \u001b[1;35mUUID\u001b[0m\u001b[1m(\u001b[0m\u001b[32m'4fba08af-c292-499e-8278-32d46379d9f2'\u001b[0m\u001b[1m)\u001b[0m,\n",
       "    \u001b[32m'user'\u001b[0m: \u001b[1m<\u001b[0m\u001b[1;95mapp.models.UserDAO\u001b[0m\u001b[39m object at \u001b[0m\u001b[1;36m0x7f8806288b80\u001b[0m\u001b[1m>\u001b[0m\n",
       "\u001b[1m}\u001b[0m\n"
      ]
     },
     "metadata": {},
     "output_type": "display_data"
    },
    {
     "data": {
      "application/javascript": [
       "\n",
       "            setTimeout(function() {\n",
       "                var nbb_cell_id = 8;\n",
       "                var nbb_unformatted_code = \"rich.print(todos[0].__dict__)\";\n",
       "                var nbb_formatted_code = \"rich.print(todos[0].__dict__)\";\n",
       "                var nbb_cells = Jupyter.notebook.get_cells();\n",
       "                for (var i = 0; i < nbb_cells.length; ++i) {\n",
       "                    if (nbb_cells[i].input_prompt_number == nbb_cell_id) {\n",
       "                        if (nbb_cells[i].get_text() == nbb_unformatted_code) {\n",
       "                             nbb_cells[i].set_text(nbb_formatted_code);\n",
       "                        }\n",
       "                        break;\n",
       "                    }\n",
       "                }\n",
       "            }, 500);\n",
       "            "
      ],
      "text/plain": [
       "<IPython.core.display.Javascript object>"
      ]
     },
     "metadata": {},
     "output_type": "display_data"
    }
   ],
   "source": [
    "rich.print(todos[0].__dict__)"
   ]
  },
  {
   "cell_type": "code",
   "execution_count": null,
   "id": "747338e2",
   "metadata": {},
   "outputs": [],
   "source": []
  }
 ],
 "metadata": {
  "kernelspec": {
   "display_name": "Python 3 (ipykernel)",
   "language": "python",
   "name": "python3"
  },
  "language_info": {
   "codemirror_mode": {
    "name": "ipython",
    "version": 3
   },
   "file_extension": ".py",
   "mimetype": "text/x-python",
   "name": "python",
   "nbconvert_exporter": "python",
   "pygments_lexer": "ipython3",
   "version": "3.9.7"
  },
  "toc": {
   "base_numbering": 1,
   "nav_menu": {},
   "number_sections": true,
   "sideBar": true,
   "skip_h1_title": false,
   "title_cell": "Table of Contents",
   "title_sidebar": "Contents",
   "toc_cell": false,
   "toc_position": {},
   "toc_section_display": true,
   "toc_window_display": true
  }
 },
 "nbformat": 4,
 "nbformat_minor": 5
}
