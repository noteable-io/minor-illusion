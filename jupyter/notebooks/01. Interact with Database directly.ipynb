{
 "cells": [
  {
   "cell_type": "markdown",
   "id": "51bc8021",
   "metadata": {},
   "source": [
    "# Overview\n",
    "\n",
    "This Notebook demonstrates a minimal example of querying the cockroach database using the engine, session, and models defined in the backend code.  The backend code is being read-only volume mounted to `/home/jovyan/backend`, and that directory has been added to the `PYTHONPATH` environment variable.  Imports should \"just work\"."
   ]
  },
  {
   "cell_type": "code",
   "execution_count": 1,
   "id": "826ae357",
   "metadata": {
    "ExecuteTime": {
     "end_time": "2021-11-29T15:31:51.237447Z",
     "start_time": "2021-11-29T15:31:51.133740Z"
    }
   },
   "outputs": [
    {
     "data": {
      "application/javascript": [
       "\n",
       "            setTimeout(function() {\n",
       "                var nbb_cell_id = 1;\n",
       "                var nbb_unformatted_code = \"%load_ext nb_black\";\n",
       "                var nbb_formatted_code = \"%load_ext nb_black\";\n",
       "                var nbb_cells = Jupyter.notebook.get_cells();\n",
       "                for (var i = 0; i < nbb_cells.length; ++i) {\n",
       "                    if (nbb_cells[i].input_prompt_number == nbb_cell_id) {\n",
       "                        if (nbb_cells[i].get_text() == nbb_unformatted_code) {\n",
       "                             nbb_cells[i].set_text(nbb_formatted_code);\n",
       "                        }\n",
       "                        break;\n",
       "                    }\n",
       "                }\n",
       "            }, 500);\n",
       "            "
      ],
      "text/plain": [
       "<IPython.core.display.Javascript object>"
      ]
     },
     "metadata": {},
     "output_type": "display_data"
    }
   ],
   "source": [
    "%load_ext nb_black"
   ]
  },
  {
   "cell_type": "code",
   "execution_count": 2,
   "id": "ef9ea84d",
   "metadata": {
    "ExecuteTime": {
     "end_time": "2021-11-29T15:31:51.337526Z",
     "start_time": "2021-11-29T15:31:51.240840Z"
    }
   },
   "outputs": [
    {
     "data": {
      "application/javascript": [
       "\n",
       "            setTimeout(function() {\n",
       "                var nbb_cell_id = 2;\n",
       "                var nbb_unformatted_code = \"import logging\\n\\nlogging.basicConfig()\\nlogger = logging.getLogger(\\\"sqlalchemy.engine\\\")\\nlogger.propagate = True\\nlogger.setLevel(logging.INFO)\";\n",
       "                var nbb_formatted_code = \"import logging\\n\\nlogging.basicConfig()\\nlogger = logging.getLogger(\\\"sqlalchemy.engine\\\")\\nlogger.propagate = True\\nlogger.setLevel(logging.INFO)\";\n",
       "                var nbb_cells = Jupyter.notebook.get_cells();\n",
       "                for (var i = 0; i < nbb_cells.length; ++i) {\n",
       "                    if (nbb_cells[i].input_prompt_number == nbb_cell_id) {\n",
       "                        if (nbb_cells[i].get_text() == nbb_unformatted_code) {\n",
       "                             nbb_cells[i].set_text(nbb_formatted_code);\n",
       "                        }\n",
       "                        break;\n",
       "                    }\n",
       "                }\n",
       "            }, 500);\n",
       "            "
      ],
      "text/plain": [
       "<IPython.core.display.Javascript object>"
      ]
     },
     "metadata": {},
     "output_type": "display_data"
    }
   ],
   "source": [
    "import logging\n",
    "\n",
    "logging.basicConfig()\n",
    "logger = logging.getLogger(\"sqlalchemy.engine\")\n",
    "logger.propagate = True\n",
    "logger.setLevel(logging.INFO)"
   ]
  },
  {
   "cell_type": "markdown",
   "id": "e607783e",
   "metadata": {},
   "source": [
    "# Show backend engine"
   ]
  },
  {
   "cell_type": "code",
   "execution_count": 3,
   "id": "1910d2cb",
   "metadata": {
    "ExecuteTime": {
     "end_time": "2021-11-29T15:31:51.942103Z",
     "start_time": "2021-11-29T15:31:51.339791Z"
    }
   },
   "outputs": [
    {
     "data": {
      "text/plain": [
       "<sqlalchemy.ext.asyncio.engine.AsyncEngine at 0x7f43454d9080>"
      ]
     },
     "execution_count": 3,
     "metadata": {},
     "output_type": "execute_result"
    },
    {
     "data": {
      "application/javascript": [
       "\n",
       "            setTimeout(function() {\n",
       "                var nbb_cell_id = 3;\n",
       "                var nbb_unformatted_code = \"import sqlalchemy as sa\\nimport rich\\n\\nfrom app.db import engine, db_session\\nfrom app.models import UserDAO, TodoDAO\\n\\nengine\";\n",
       "                var nbb_formatted_code = \"import sqlalchemy as sa\\nimport rich\\n\\nfrom app.db import engine, db_session\\nfrom app.models import UserDAO, TodoDAO\\n\\nengine\";\n",
       "                var nbb_cells = Jupyter.notebook.get_cells();\n",
       "                for (var i = 0; i < nbb_cells.length; ++i) {\n",
       "                    if (nbb_cells[i].input_prompt_number == nbb_cell_id) {\n",
       "                        if (nbb_cells[i].get_text() == nbb_unformatted_code) {\n",
       "                             nbb_cells[i].set_text(nbb_formatted_code);\n",
       "                        }\n",
       "                        break;\n",
       "                    }\n",
       "                }\n",
       "            }, 500);\n",
       "            "
      ],
      "text/plain": [
       "<IPython.core.display.Javascript object>"
      ]
     },
     "metadata": {},
     "output_type": "display_data"
    }
   ],
   "source": [
    "import sqlalchemy as sa\n",
    "import rich\n",
    "\n",
    "from app.db import engine, db_session\n",
    "from app.models import UserDAO, TodoDAO\n",
    "\n",
    "engine"
   ]
  },
  {
   "cell_type": "code",
   "execution_count": 4,
   "id": "59c43d5b",
   "metadata": {
    "ExecuteTime": {
     "end_time": "2021-11-29T15:31:51.954278Z",
     "start_time": "2021-11-29T15:31:51.945529Z"
    }
   },
   "outputs": [
    {
     "data": {
      "text/plain": [
       "<function app.db.db_session()>"
      ]
     },
     "execution_count": 4,
     "metadata": {},
     "output_type": "execute_result"
    },
    {
     "data": {
      "application/javascript": [
       "\n",
       "            setTimeout(function() {\n",
       "                var nbb_cell_id = 4;\n",
       "                var nbb_unformatted_code = \"db_session\";\n",
       "                var nbb_formatted_code = \"db_session\";\n",
       "                var nbb_cells = Jupyter.notebook.get_cells();\n",
       "                for (var i = 0; i < nbb_cells.length; ++i) {\n",
       "                    if (nbb_cells[i].input_prompt_number == nbb_cell_id) {\n",
       "                        if (nbb_cells[i].get_text() == nbb_unformatted_code) {\n",
       "                             nbb_cells[i].set_text(nbb_formatted_code);\n",
       "                        }\n",
       "                        break;\n",
       "                    }\n",
       "                }\n",
       "            }, 500);\n",
       "            "
      ],
      "text/plain": [
       "<IPython.core.display.Javascript object>"
      ]
     },
     "metadata": {},
     "output_type": "display_data"
    }
   ],
   "source": [
    "db_session"
   ]
  },
  {
   "cell_type": "markdown",
   "id": "00028bdc",
   "metadata": {},
   "source": [
    "# Query all Users"
   ]
  },
  {
   "cell_type": "code",
   "execution_count": 5,
   "id": "fb2ec2ab",
   "metadata": {
    "ExecuteTime": {
     "end_time": "2021-11-29T15:31:52.306117Z",
     "start_time": "2021-11-29T15:31:51.956497Z"
    }
   },
   "outputs": [
    {
     "name": "stderr",
     "output_type": "stream",
     "text": [
      "INFO:sqlalchemy.engine.Engine:select current_schema()\n",
      "INFO:sqlalchemy.engine.Engine:[raw sql] ()\n",
      "INFO:sqlalchemy.engine.Engine:select version()\n",
      "INFO:sqlalchemy.engine.Engine:[generated in 0.00093s] ()\n",
      "INFO:sqlalchemy.engine.Engine:SELECT crdb_internal.increment_feature_counter(%s)\n",
      "INFO:sqlalchemy.engine.Engine:[generated in 0.00086s] ('sqlalchemy-cockroachdb 1.4.3.dev0',)\n",
      "INFO:sqlalchemy.engine.Engine:SELECT crdb_internal.increment_feature_counter(%s)\n",
      "INFO:sqlalchemy.engine.Engine:[cached since 0.003728s ago] ('sqlalchemy 1.4',)\n",
      "INFO:sqlalchemy.engine.Engine:BEGIN (implicit)\n",
      "INFO:sqlalchemy.engine.Engine:SELECT users.id, users.created_at, users.name, users.password \n",
      "FROM users\n",
      "INFO:sqlalchemy.engine.Engine:[generated in 0.00104s] ()\n",
      "INFO:sqlalchemy.engine.Engine:ROLLBACK\n"
     ]
    },
    {
     "data": {
      "text/plain": [
       "[<app.models.UserDAO at 0x7f4344c0d190>,\n",
       " <app.models.UserDAO at 0x7f4344c0d040>,\n",
       " <app.models.UserDAO at 0x7f4344c0d700>]"
      ]
     },
     "execution_count": 5,
     "metadata": {},
     "output_type": "execute_result"
    },
    {
     "data": {
      "application/javascript": [
       "\n",
       "            setTimeout(function() {\n",
       "                var nbb_cell_id = 5;\n",
       "                var nbb_unformatted_code = \"async with db_session() as session:\\n    statement = sa.select(UserDAO)\\n    results = await session.execute(statement)\\n    users = results.scalars().all()\\n\\nusers\";\n",
       "                var nbb_formatted_code = \"async with db_session() as session:\\n    statement = sa.select(UserDAO)\\n    results = await session.execute(statement)\\n    users = results.scalars().all()\\n\\nusers\";\n",
       "                var nbb_cells = Jupyter.notebook.get_cells();\n",
       "                for (var i = 0; i < nbb_cells.length; ++i) {\n",
       "                    if (nbb_cells[i].input_prompt_number == nbb_cell_id) {\n",
       "                        if (nbb_cells[i].get_text() == nbb_unformatted_code) {\n",
       "                             nbb_cells[i].set_text(nbb_formatted_code);\n",
       "                        }\n",
       "                        break;\n",
       "                    }\n",
       "                }\n",
       "            }, 500);\n",
       "            "
      ],
      "text/plain": [
       "<IPython.core.display.Javascript object>"
      ]
     },
     "metadata": {},
     "output_type": "display_data"
    }
   ],
   "source": [
    "async with db_session() as session:\n",
    "    statement = sa.select(UserDAO)\n",
    "    results = await session.execute(statement)\n",
    "    users = results.scalars().all()\n",
    "\n",
    "users"
   ]
  },
  {
   "cell_type": "code",
   "execution_count": 6,
   "id": "78727ae5",
   "metadata": {
    "ExecuteTime": {
     "end_time": "2021-11-29T15:31:52.461701Z",
     "start_time": "2021-11-29T15:31:52.308740Z"
    }
   },
   "outputs": [
    {
     "data": {
      "text/html": [
       "<pre style=\"white-space:pre;overflow-x:auto;line-height:normal;font-family:Menlo,'DejaVu Sans Mono',consolas,'Courier New',monospace\"><span style=\"font-weight: bold\">{</span>\n",
       "    <span style=\"color: #008000; text-decoration-color: #008000\">'_sa_instance_state'</span>: <span style=\"font-weight: bold\">&lt;</span><span style=\"color: #ff00ff; text-decoration-color: #ff00ff; font-weight: bold\">sqlalchemy.orm.state.InstanceState</span><span style=\"color: #000000; text-decoration-color: #000000\"> object at </span><span style=\"color: #008080; text-decoration-color: #008080; font-weight: bold\">0x7f4344c0d280</span><span style=\"font-weight: bold\">&gt;</span>,\n",
       "    <span style=\"color: #008000; text-decoration-color: #008000\">'id'</span>: <span style=\"color: #800080; text-decoration-color: #800080; font-weight: bold\">UUID</span><span style=\"font-weight: bold\">(</span><span style=\"color: #008000; text-decoration-color: #008000\">'4d4cea9e-945c-455c-8f7a-66b279d89540'</span><span style=\"font-weight: bold\">)</span>,\n",
       "    <span style=\"color: #008000; text-decoration-color: #008000\">'created_at'</span>: <span style=\"color: #800080; text-decoration-color: #800080; font-weight: bold\">datetime.datetime</span><span style=\"font-weight: bold\">(</span><span style=\"color: #008080; text-decoration-color: #008080; font-weight: bold\">2021</span>, <span style=\"color: #008080; text-decoration-color: #008080; font-weight: bold\">11</span>, <span style=\"color: #008080; text-decoration-color: #008080; font-weight: bold\">29</span>, <span style=\"color: #008080; text-decoration-color: #008080; font-weight: bold\">15</span>, <span style=\"color: #008080; text-decoration-color: #008080; font-weight: bold\">14</span>, <span style=\"color: #008080; text-decoration-color: #008080; font-weight: bold\">49</span>, <span style=\"color: #008080; text-decoration-color: #008080; font-weight: bold\">707819</span>, \n",
       "<span style=\"color: #808000; text-decoration-color: #808000\">tzinfo</span>=<span style=\"color: #800080; text-decoration-color: #800080\">datetime</span>.timezone.utc<span style=\"font-weight: bold\">)</span>,\n",
       "    <span style=\"color: #008000; text-decoration-color: #008000\">'name'</span>: <span style=\"color: #008000; text-decoration-color: #008000\">'user2'</span>,\n",
       "    <span style=\"color: #008000; text-decoration-color: #008000\">'password'</span>: <span style=\"color: #008000; text-decoration-color: #008000\">'pass'</span>\n",
       "<span style=\"font-weight: bold\">}</span>\n",
       "</pre>\n"
      ],
      "text/plain": [
       "\u001b[1m{\u001b[0m\n",
       "    \u001b[32m'_sa_instance_state'\u001b[0m: \u001b[1m<\u001b[0m\u001b[1;95msqlalchemy.orm.state.InstanceState\u001b[0m\u001b[39m object at \u001b[0m\u001b[1;36m0x7f4344c0d280\u001b[0m\u001b[1m>\u001b[0m,\n",
       "    \u001b[32m'id'\u001b[0m: \u001b[1;35mUUID\u001b[0m\u001b[1m(\u001b[0m\u001b[32m'4d4cea9e-945c-455c-8f7a-66b279d89540'\u001b[0m\u001b[1m)\u001b[0m,\n",
       "    \u001b[32m'created_at'\u001b[0m: \u001b[1;35mdatetime.datetime\u001b[0m\u001b[1m(\u001b[0m\u001b[1;36m2021\u001b[0m, \u001b[1;36m11\u001b[0m, \u001b[1;36m29\u001b[0m, \u001b[1;36m15\u001b[0m, \u001b[1;36m14\u001b[0m, \u001b[1;36m49\u001b[0m, \u001b[1;36m707819\u001b[0m, \n",
       "\u001b[33mtzinfo\u001b[0m=\u001b[35mdatetime\u001b[0m.timezone.utc\u001b[1m)\u001b[0m,\n",
       "    \u001b[32m'name'\u001b[0m: \u001b[32m'user2'\u001b[0m,\n",
       "    \u001b[32m'password'\u001b[0m: \u001b[32m'pass'\u001b[0m\n",
       "\u001b[1m}\u001b[0m\n"
      ]
     },
     "metadata": {},
     "output_type": "display_data"
    },
    {
     "data": {
      "application/javascript": [
       "\n",
       "            setTimeout(function() {\n",
       "                var nbb_cell_id = 6;\n",
       "                var nbb_unformatted_code = \"rich.print(users[0].__dict__)\";\n",
       "                var nbb_formatted_code = \"rich.print(users[0].__dict__)\";\n",
       "                var nbb_cells = Jupyter.notebook.get_cells();\n",
       "                for (var i = 0; i < nbb_cells.length; ++i) {\n",
       "                    if (nbb_cells[i].input_prompt_number == nbb_cell_id) {\n",
       "                        if (nbb_cells[i].get_text() == nbb_unformatted_code) {\n",
       "                             nbb_cells[i].set_text(nbb_formatted_code);\n",
       "                        }\n",
       "                        break;\n",
       "                    }\n",
       "                }\n",
       "            }, 500);\n",
       "            "
      ],
      "text/plain": [
       "<IPython.core.display.Javascript object>"
      ]
     },
     "metadata": {},
     "output_type": "display_data"
    }
   ],
   "source": [
    "rich.print(users[0].__dict__)"
   ]
  },
  {
   "cell_type": "code",
   "execution_count": 7,
   "id": "47195a18",
   "metadata": {
    "ExecuteTime": {
     "end_time": "2021-11-29T15:31:52.621231Z",
     "start_time": "2021-11-29T15:31:52.463890Z"
    }
   },
   "outputs": [
    {
     "name": "stdout",
     "output_type": "stream",
     "text": [
      "user2\n",
      "user1\n",
      "user3\n"
     ]
    },
    {
     "data": {
      "application/javascript": [
       "\n",
       "            setTimeout(function() {\n",
       "                var nbb_cell_id = 7;\n",
       "                var nbb_unformatted_code = \"for u in users:\\n    print(u.name)\";\n",
       "                var nbb_formatted_code = \"for u in users:\\n    print(u.name)\";\n",
       "                var nbb_cells = Jupyter.notebook.get_cells();\n",
       "                for (var i = 0; i < nbb_cells.length; ++i) {\n",
       "                    if (nbb_cells[i].input_prompt_number == nbb_cell_id) {\n",
       "                        if (nbb_cells[i].get_text() == nbb_unformatted_code) {\n",
       "                             nbb_cells[i].set_text(nbb_formatted_code);\n",
       "                        }\n",
       "                        break;\n",
       "                    }\n",
       "                }\n",
       "            }, 500);\n",
       "            "
      ],
      "text/plain": [
       "<IPython.core.display.Javascript object>"
      ]
     },
     "metadata": {},
     "output_type": "display_data"
    }
   ],
   "source": [
    "for u in users:\n",
    "    print(u.name)"
   ]
  },
  {
   "cell_type": "markdown",
   "id": "48d54ff1",
   "metadata": {},
   "source": [
    "# Query all Todos"
   ]
  },
  {
   "cell_type": "code",
   "execution_count": 8,
   "id": "ecf6648a",
   "metadata": {
    "ExecuteTime": {
     "end_time": "2021-11-29T15:31:53.177837Z",
     "start_time": "2021-11-29T15:31:52.624101Z"
    }
   },
   "outputs": [
    {
     "name": "stderr",
     "output_type": "stream",
     "text": [
      "INFO:sqlalchemy.engine.Engine:BEGIN (implicit)\n",
      "INFO:sqlalchemy.engine.Engine:SELECT todo.id, todo.created_at, todo.title, todo.content, todo.user_id, users_1.id AS id_1, users_1.created_at AS created_at_1, users_1.name, users_1.password \n",
      "FROM todo LEFT OUTER JOIN users AS users_1 ON users_1.id = todo.user_id\n",
      "INFO:sqlalchemy.engine.Engine:[generated in 0.00093s] ()\n",
      "INFO:sqlalchemy.engine.Engine:ROLLBACK\n"
     ]
    },
    {
     "data": {
      "text/plain": [
       "[<app.models.TodoDAO at 0x7f43449ef6d0>,\n",
       " <app.models.TodoDAO at 0x7f43449ef880>,\n",
       " <app.models.TodoDAO at 0x7f43449ef970>]"
      ]
     },
     "execution_count": 8,
     "metadata": {},
     "output_type": "execute_result"
    },
    {
     "data": {
      "application/javascript": [
       "\n",
       "            setTimeout(function() {\n",
       "                var nbb_cell_id = 8;\n",
       "                var nbb_unformatted_code = \"async with db_session() as session:\\n    statement = sa.select(TodoDAO)\\n    results = await session.execute(statement)\\n    todos = results.scalars().all()\\ntodos\";\n",
       "                var nbb_formatted_code = \"async with db_session() as session:\\n    statement = sa.select(TodoDAO)\\n    results = await session.execute(statement)\\n    todos = results.scalars().all()\\ntodos\";\n",
       "                var nbb_cells = Jupyter.notebook.get_cells();\n",
       "                for (var i = 0; i < nbb_cells.length; ++i) {\n",
       "                    if (nbb_cells[i].input_prompt_number == nbb_cell_id) {\n",
       "                        if (nbb_cells[i].get_text() == nbb_unformatted_code) {\n",
       "                             nbb_cells[i].set_text(nbb_formatted_code);\n",
       "                        }\n",
       "                        break;\n",
       "                    }\n",
       "                }\n",
       "            }, 500);\n",
       "            "
      ],
      "text/plain": [
       "<IPython.core.display.Javascript object>"
      ]
     },
     "metadata": {},
     "output_type": "display_data"
    }
   ],
   "source": [
    "async with db_session() as session:\n",
    "    statement = sa.select(TodoDAO)\n",
    "    results = await session.execute(statement)\n",
    "    todos = results.scalars().all()\n",
    "todos"
   ]
  },
  {
   "cell_type": "code",
   "execution_count": 9,
   "id": "450bd83f",
   "metadata": {
    "ExecuteTime": {
     "end_time": "2021-11-29T15:31:53.697550Z",
     "start_time": "2021-11-29T15:31:53.180110Z"
    }
   },
   "outputs": [
    {
     "data": {
      "text/html": [
       "<pre style=\"white-space:pre;overflow-x:auto;line-height:normal;font-family:Menlo,'DejaVu Sans Mono',consolas,'Courier New',monospace\"><span style=\"font-weight: bold\">{</span>\n",
       "    <span style=\"color: #008000; text-decoration-color: #008000\">'_sa_instance_state'</span>: <span style=\"font-weight: bold\">&lt;</span><span style=\"color: #ff00ff; text-decoration-color: #ff00ff; font-weight: bold\">sqlalchemy.orm.state.InstanceState</span><span style=\"color: #000000; text-decoration-color: #000000\"> object at </span><span style=\"color: #008080; text-decoration-color: #008080; font-weight: bold\">0x7f43449ef700</span><span style=\"font-weight: bold\">&gt;</span>,\n",
       "    <span style=\"color: #008000; text-decoration-color: #008000\">'created_at'</span>: <span style=\"color: #800080; text-decoration-color: #800080; font-weight: bold\">datetime.datetime</span><span style=\"font-weight: bold\">(</span><span style=\"color: #008080; text-decoration-color: #008080; font-weight: bold\">2021</span>, <span style=\"color: #008080; text-decoration-color: #008080; font-weight: bold\">11</span>, <span style=\"color: #008080; text-decoration-color: #008080; font-weight: bold\">29</span>, <span style=\"color: #008080; text-decoration-color: #008080; font-weight: bold\">15</span>, <span style=\"color: #008080; text-decoration-color: #008080; font-weight: bold\">14</span>, <span style=\"color: #008080; text-decoration-color: #008080; font-weight: bold\">50</span>, <span style=\"color: #008080; text-decoration-color: #008080; font-weight: bold\">269675</span>, \n",
       "<span style=\"color: #808000; text-decoration-color: #808000\">tzinfo</span>=<span style=\"color: #800080; text-decoration-color: #800080\">datetime</span>.timezone.utc<span style=\"font-weight: bold\">)</span>,\n",
       "    <span style=\"color: #008000; text-decoration-color: #008000\">'title'</span>: <span style=\"color: #008000; text-decoration-color: #008000\">'Note 2'</span>,\n",
       "    <span style=\"color: #008000; text-decoration-color: #008000\">'user_id'</span>: <span style=\"color: #800080; text-decoration-color: #800080; font-weight: bold\">UUID</span><span style=\"font-weight: bold\">(</span><span style=\"color: #008000; text-decoration-color: #008000\">'b32b67ab-af4b-438f-bd5f-74c162887037'</span><span style=\"font-weight: bold\">)</span>,\n",
       "    <span style=\"color: #008000; text-decoration-color: #008000\">'content'</span>: <span style=\"color: #008000; text-decoration-color: #008000\">'Edit this Note'</span>,\n",
       "    <span style=\"color: #008000; text-decoration-color: #008000\">'id'</span>: <span style=\"color: #800080; text-decoration-color: #800080; font-weight: bold\">UUID</span><span style=\"font-weight: bold\">(</span><span style=\"color: #008000; text-decoration-color: #008000\">'78907ea7-0d8e-4821-bffe-2379b58c63cf'</span><span style=\"font-weight: bold\">)</span>,\n",
       "    <span style=\"color: #008000; text-decoration-color: #008000\">'user'</span>: <span style=\"font-weight: bold\">&lt;</span><span style=\"color: #ff00ff; text-decoration-color: #ff00ff; font-weight: bold\">app.models.UserDAO</span><span style=\"color: #000000; text-decoration-color: #000000\"> object at </span><span style=\"color: #008080; text-decoration-color: #008080; font-weight: bold\">0x7f43449ef7c0</span><span style=\"font-weight: bold\">&gt;</span>\n",
       "<span style=\"font-weight: bold\">}</span>\n",
       "</pre>\n"
      ],
      "text/plain": [
       "\u001b[1m{\u001b[0m\n",
       "    \u001b[32m'_sa_instance_state'\u001b[0m: \u001b[1m<\u001b[0m\u001b[1;95msqlalchemy.orm.state.InstanceState\u001b[0m\u001b[39m object at \u001b[0m\u001b[1;36m0x7f43449ef700\u001b[0m\u001b[1m>\u001b[0m,\n",
       "    \u001b[32m'created_at'\u001b[0m: \u001b[1;35mdatetime.datetime\u001b[0m\u001b[1m(\u001b[0m\u001b[1;36m2021\u001b[0m, \u001b[1;36m11\u001b[0m, \u001b[1;36m29\u001b[0m, \u001b[1;36m15\u001b[0m, \u001b[1;36m14\u001b[0m, \u001b[1;36m50\u001b[0m, \u001b[1;36m269675\u001b[0m, \n",
       "\u001b[33mtzinfo\u001b[0m=\u001b[35mdatetime\u001b[0m.timezone.utc\u001b[1m)\u001b[0m,\n",
       "    \u001b[32m'title'\u001b[0m: \u001b[32m'Note 2'\u001b[0m,\n",
       "    \u001b[32m'user_id'\u001b[0m: \u001b[1;35mUUID\u001b[0m\u001b[1m(\u001b[0m\u001b[32m'b32b67ab-af4b-438f-bd5f-74c162887037'\u001b[0m\u001b[1m)\u001b[0m,\n",
       "    \u001b[32m'content'\u001b[0m: \u001b[32m'Edit this Note'\u001b[0m,\n",
       "    \u001b[32m'id'\u001b[0m: \u001b[1;35mUUID\u001b[0m\u001b[1m(\u001b[0m\u001b[32m'78907ea7-0d8e-4821-bffe-2379b58c63cf'\u001b[0m\u001b[1m)\u001b[0m,\n",
       "    \u001b[32m'user'\u001b[0m: \u001b[1m<\u001b[0m\u001b[1;95mapp.models.UserDAO\u001b[0m\u001b[39m object at \u001b[0m\u001b[1;36m0x7f43449ef7c0\u001b[0m\u001b[1m>\u001b[0m\n",
       "\u001b[1m}\u001b[0m\n"
      ]
     },
     "metadata": {},
     "output_type": "display_data"
    },
    {
     "data": {
      "application/javascript": [
       "\n",
       "            setTimeout(function() {\n",
       "                var nbb_cell_id = 9;\n",
       "                var nbb_unformatted_code = \"rich.print(todos[0].__dict__)\";\n",
       "                var nbb_formatted_code = \"rich.print(todos[0].__dict__)\";\n",
       "                var nbb_cells = Jupyter.notebook.get_cells();\n",
       "                for (var i = 0; i < nbb_cells.length; ++i) {\n",
       "                    if (nbb_cells[i].input_prompt_number == nbb_cell_id) {\n",
       "                        if (nbb_cells[i].get_text() == nbb_unformatted_code) {\n",
       "                             nbb_cells[i].set_text(nbb_formatted_code);\n",
       "                        }\n",
       "                        break;\n",
       "                    }\n",
       "                }\n",
       "            }, 500);\n",
       "            "
      ],
      "text/plain": [
       "<IPython.core.display.Javascript object>"
      ]
     },
     "metadata": {},
     "output_type": "display_data"
    }
   ],
   "source": [
    "rich.print(todos[0].__dict__)"
   ]
  },
  {
   "cell_type": "markdown",
   "id": "45c0c688",
   "metadata": {},
   "source": [
    "# Update a Todo"
   ]
  },
  {
   "cell_type": "code",
   "execution_count": 10,
   "id": "58366e5e",
   "metadata": {
    "ExecuteTime": {
     "end_time": "2021-11-29T15:31:54.334946Z",
     "start_time": "2021-11-29T15:31:53.700042Z"
    }
   },
   "outputs": [
    {
     "data": {
      "text/plain": [
       "UUID('78907ea7-0d8e-4821-bffe-2379b58c63cf')"
      ]
     },
     "execution_count": 10,
     "metadata": {},
     "output_type": "execute_result"
    },
    {
     "data": {
      "application/javascript": [
       "\n",
       "            setTimeout(function() {\n",
       "                var nbb_cell_id = 10;\n",
       "                var nbb_unformatted_code = \"id = todos[0].id\\nid\";\n",
       "                var nbb_formatted_code = \"id = todos[0].id\\nid\";\n",
       "                var nbb_cells = Jupyter.notebook.get_cells();\n",
       "                for (var i = 0; i < nbb_cells.length; ++i) {\n",
       "                    if (nbb_cells[i].input_prompt_number == nbb_cell_id) {\n",
       "                        if (nbb_cells[i].get_text() == nbb_unformatted_code) {\n",
       "                             nbb_cells[i].set_text(nbb_formatted_code);\n",
       "                        }\n",
       "                        break;\n",
       "                    }\n",
       "                }\n",
       "            }, 500);\n",
       "            "
      ],
      "text/plain": [
       "<IPython.core.display.Javascript object>"
      ]
     },
     "metadata": {},
     "output_type": "display_data"
    }
   ],
   "source": [
    "id = todos[0].id\n",
    "id"
   ]
  },
  {
   "cell_type": "code",
   "execution_count": 11,
   "id": "24e5aaef",
   "metadata": {
    "ExecuteTime": {
     "end_time": "2021-11-29T15:31:55.373284Z",
     "start_time": "2021-11-29T15:31:54.337992Z"
    }
   },
   "outputs": [
    {
     "name": "stderr",
     "output_type": "stream",
     "text": [
      "INFO:sqlalchemy.engine.Engine:BEGIN (implicit)\n",
      "INFO:sqlalchemy.engine.Engine:SELECT todo.id, todo.created_at, todo.title, todo.content, todo.user_id, users_1.id AS id_1, users_1.created_at AS created_at_1, users_1.name, users_1.password \n",
      "FROM todo LEFT OUTER JOIN users AS users_1 ON users_1.id = todo.user_id \n",
      "WHERE todo.id = %s\n",
      "INFO:sqlalchemy.engine.Engine:[generated in 0.00068s] (UUID('78907ea7-0d8e-4821-bffe-2379b58c63cf'),)\n",
      "INFO:sqlalchemy.engine.Engine:UPDATE todo SET title=%s, content=%s WHERE todo.id = %s\n",
      "INFO:sqlalchemy.engine.Engine:[generated in 0.00146s] ('title42', 'modified by notebook', UUID('78907ea7-0d8e-4821-bffe-2379b58c63cf'))\n",
      "INFO:sqlalchemy.engine.Engine:COMMIT\n"
     ]
    },
    {
     "data": {
      "application/javascript": [
       "\n",
       "            setTimeout(function() {\n",
       "                var nbb_cell_id = 11;\n",
       "                var nbb_unformatted_code = \"from sqlalchemy.orm.attributes import set_attribute\\n\\nasync with db_session() as session:\\n    updates = {\\\"title\\\": \\\"title42\\\", \\\"content\\\": \\\"modified by notebook\\\"}\\n    statement = sa.select(TodoDAO).where(TodoDAO.id == id)\\n    results = await session.execute(statement)\\n    t = results.scalars().first()\\n    for k, v in updates.items():\\n        set_attribute(t, k, v)\\n    await session.commit()\";\n",
       "                var nbb_formatted_code = \"from sqlalchemy.orm.attributes import set_attribute\\n\\nasync with db_session() as session:\\n    updates = {\\\"title\\\": \\\"title42\\\", \\\"content\\\": \\\"modified by notebook\\\"}\\n    statement = sa.select(TodoDAO).where(TodoDAO.id == id)\\n    results = await session.execute(statement)\\n    t = results.scalars().first()\\n    for k, v in updates.items():\\n        set_attribute(t, k, v)\\n    await session.commit()\";\n",
       "                var nbb_cells = Jupyter.notebook.get_cells();\n",
       "                for (var i = 0; i < nbb_cells.length; ++i) {\n",
       "                    if (nbb_cells[i].input_prompt_number == nbb_cell_id) {\n",
       "                        if (nbb_cells[i].get_text() == nbb_unformatted_code) {\n",
       "                             nbb_cells[i].set_text(nbb_formatted_code);\n",
       "                        }\n",
       "                        break;\n",
       "                    }\n",
       "                }\n",
       "            }, 500);\n",
       "            "
      ],
      "text/plain": [
       "<IPython.core.display.Javascript object>"
      ]
     },
     "metadata": {},
     "output_type": "display_data"
    }
   ],
   "source": [
    "from sqlalchemy.orm.attributes import set_attribute\n",
    "\n",
    "async with db_session() as session:\n",
    "    updates = {\"title\": \"title42\", \"content\": \"modified by notebook\"}\n",
    "    statement = sa.select(TodoDAO).where(TodoDAO.id == id)\n",
    "    results = await session.execute(statement)\n",
    "    t = results.scalars().first()\n",
    "    for k, v in updates.items():\n",
    "        set_attribute(t, k, v)\n",
    "    await session.commit()"
   ]
  },
  {
   "cell_type": "code",
   "execution_count": 12,
   "id": "36932185",
   "metadata": {
    "ExecuteTime": {
     "end_time": "2021-11-29T15:31:55.385170Z",
     "start_time": "2021-11-29T15:31:55.375796Z"
    }
   },
   "outputs": [
    {
     "data": {
      "text/plain": [
       "<app.models.TodoDAO at 0x7f4344999940>"
      ]
     },
     "execution_count": 12,
     "metadata": {},
     "output_type": "execute_result"
    },
    {
     "data": {
      "application/javascript": [
       "\n",
       "            setTimeout(function() {\n",
       "                var nbb_cell_id = 12;\n",
       "                var nbb_unformatted_code = \"t\";\n",
       "                var nbb_formatted_code = \"t\";\n",
       "                var nbb_cells = Jupyter.notebook.get_cells();\n",
       "                for (var i = 0; i < nbb_cells.length; ++i) {\n",
       "                    if (nbb_cells[i].input_prompt_number == nbb_cell_id) {\n",
       "                        if (nbb_cells[i].get_text() == nbb_unformatted_code) {\n",
       "                             nbb_cells[i].set_text(nbb_formatted_code);\n",
       "                        }\n",
       "                        break;\n",
       "                    }\n",
       "                }\n",
       "            }, 500);\n",
       "            "
      ],
      "text/plain": [
       "<IPython.core.display.Javascript object>"
      ]
     },
     "metadata": {},
     "output_type": "display_data"
    }
   ],
   "source": [
    "t"
   ]
  },
  {
   "cell_type": "code",
   "execution_count": 13,
   "id": "85bef0cd",
   "metadata": {
    "ExecuteTime": {
     "end_time": "2021-11-29T15:31:56.043989Z",
     "start_time": "2021-11-29T15:31:55.388114Z"
    }
   },
   "outputs": [
    {
     "data": {
      "text/plain": [
       "{'_sa_instance_state': <sqlalchemy.orm.state.InstanceState at 0x7f4344999910>,\n",
       " 'created_at': datetime.datetime(2021, 11, 29, 15, 14, 50, 269675, tzinfo=datetime.timezone.utc),\n",
       " 'title': 'title42',\n",
       " 'user_id': UUID('b32b67ab-af4b-438f-bd5f-74c162887037'),\n",
       " 'content': 'modified by notebook',\n",
       " 'id': UUID('78907ea7-0d8e-4821-bffe-2379b58c63cf'),\n",
       " 'user': <app.models.UserDAO at 0x7f43449990a0>}"
      ]
     },
     "execution_count": 13,
     "metadata": {},
     "output_type": "execute_result"
    },
    {
     "data": {
      "application/javascript": [
       "\n",
       "            setTimeout(function() {\n",
       "                var nbb_cell_id = 13;\n",
       "                var nbb_unformatted_code = \"t.__dict__\";\n",
       "                var nbb_formatted_code = \"t.__dict__\";\n",
       "                var nbb_cells = Jupyter.notebook.get_cells();\n",
       "                for (var i = 0; i < nbb_cells.length; ++i) {\n",
       "                    if (nbb_cells[i].input_prompt_number == nbb_cell_id) {\n",
       "                        if (nbb_cells[i].get_text() == nbb_unformatted_code) {\n",
       "                             nbb_cells[i].set_text(nbb_formatted_code);\n",
       "                        }\n",
       "                        break;\n",
       "                    }\n",
       "                }\n",
       "            }, 500);\n",
       "            "
      ],
      "text/plain": [
       "<IPython.core.display.Javascript object>"
      ]
     },
     "metadata": {},
     "output_type": "display_data"
    }
   ],
   "source": [
    "t.__dict__"
   ]
  },
  {
   "cell_type": "code",
   "execution_count": null,
   "id": "9e197507",
   "metadata": {},
   "outputs": [],
   "source": []
  }
 ],
 "metadata": {
  "kernelspec": {
   "display_name": "Python 3 (ipykernel)",
   "language": "python",
   "name": "python3"
  },
  "language_info": {
   "codemirror_mode": {
    "name": "ipython",
    "version": 3
   },
   "file_extension": ".py",
   "mimetype": "text/x-python",
   "name": "python",
   "nbconvert_exporter": "python",
   "pygments_lexer": "ipython3",
   "version": "3.9.7"
  },
  "toc": {
   "base_numbering": 1,
   "nav_menu": {},
   "number_sections": true,
   "sideBar": true,
   "skip_h1_title": false,
   "title_cell": "Table of Contents",
   "title_sidebar": "Contents",
   "toc_cell": false,
   "toc_position": {},
   "toc_section_display": true,
   "toc_window_display": true
  }
 },
 "nbformat": 4,
 "nbformat_minor": 5
}
