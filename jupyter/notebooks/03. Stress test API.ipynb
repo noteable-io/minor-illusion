{
 "cells": [
  {
   "cell_type": "markdown",
   "id": "5b298917",
   "metadata": {},
   "source": [
    "# Overview\n",
    "\n",
    "This Notebook will simulate many users trying to talk to the API at the same time.  It's useful for testing out different profiling methods or demonstrating problems like slow database queries and blocking in async."
   ]
  },
  {
   "cell_type": "code",
   "execution_count": 1,
   "id": "01ad7e02",
   "metadata": {
    "ExecuteTime": {
     "end_time": "2021-10-29T13:39:33.701724Z",
     "start_time": "2021-10-29T13:39:33.598938Z"
    }
   },
   "outputs": [
    {
     "data": {
      "application/javascript": [
       "\n",
       "            setTimeout(function() {\n",
       "                var nbb_cell_id = 1;\n",
       "                var nbb_unformatted_code = \"%load_ext nb_black\";\n",
       "                var nbb_formatted_code = \"%load_ext nb_black\";\n",
       "                var nbb_cells = Jupyter.notebook.get_cells();\n",
       "                for (var i = 0; i < nbb_cells.length; ++i) {\n",
       "                    if (nbb_cells[i].input_prompt_number == nbb_cell_id) {\n",
       "                        if (nbb_cells[i].get_text() == nbb_unformatted_code) {\n",
       "                             nbb_cells[i].set_text(nbb_formatted_code);\n",
       "                        }\n",
       "                        break;\n",
       "                    }\n",
       "                }\n",
       "            }, 500);\n",
       "            "
      ],
      "text/plain": [
       "<IPython.core.display.Javascript object>"
      ]
     },
     "metadata": {},
     "output_type": "display_data"
    }
   ],
   "source": [
    "%load_ext nb_black"
   ]
  },
  {
   "cell_type": "code",
   "execution_count": 2,
   "id": "4c59f5b7",
   "metadata": {
    "ExecuteTime": {
     "end_time": "2021-10-29T13:39:34.445946Z",
     "start_time": "2021-10-29T13:39:33.704472Z"
    }
   },
   "outputs": [
    {
     "data": {
      "application/javascript": [
       "\n",
       "            setTimeout(function() {\n",
       "                var nbb_cell_id = 2;\n",
       "                var nbb_unformatted_code = \"import httpx\\nfrom typing import Optional\\n\\n\\nclass User:\\n    def __init__(self, name: str):\\n        self.name = name\\n        self.client = httpx.AsyncClient(\\n            base_url=\\\"http://backend:8000\\\",\\n            event_hooks={\\n                \\\"request\\\": [self.print_request],\\n                \\\"response\\\": [self.print_response],\\n            },\\n            follow_redirects=True,\\n        )\\n\\n    @classmethod\\n    async def create(cls, name: str, password: str):\\n        user = User(name)\\n        await user.login(password)\\n        return user\\n\\n    async def print_request(self, request):\\n        print(f\\\"<{self.name}> {request.method} {request.url}\\\")\\n\\n    async def print_response(self, resp):\\n        if resp.is_error:\\n            print(resp)\\n            print(resp.text)\\n            resp.raise_for_status()\\n\\n    async def login(self, password: str):\\n        endpoint = \\\"/auth/login\\\"\\n        data = {\\\"username\\\": self.name, \\\"password\\\": password}\\n        resp = await self.client.post(endpoint, data=data)\\n        resp.raise_for_status()\\n        token = resp.json()[\\\"access_token\\\"]\\n        token_type = resp.json()[\\\"token_type\\\"]\\n        self.client.headers[\\\"Authorization\\\"] = f\\\"{token_type} {token}\\\"\\n\\n    async def me(self):\\n        endpoint = \\\"/me\\\"\\n        resp = await self.client.get(endpoint)\\n        return resp.json()\\n\\n    async def get_todos(self):\\n        endpoint = \\\"/todo\\\"\\n        resp = await self.client.get(endpoint)\\n        return resp.json()\\n\\n    async def make_todo(self, title: str, content: str):\\n        endpoint = \\\"/todo\\\"\\n        data = {\\\"title\\\": title, \\\"content\\\": content}\\n        resp = await self.client.post(endpoint, json=data)\\n        return resp.json()\\n\\n    async def delete_todo(self, todo_id: str):\\n        endpoint = f\\\"/todo/{todo_id}\\\"\\n        resp = await self.client.delete(endpoint)\\n        return resp.json()\\n\\n    async def update_todo(\\n        self, todo_id: str, title: Optional[str], content: Optional[str]\\n    ):\\n        endpoint = f\\\"/todo/{todo_id}\\\"\\n        data = {}\\n        if title:\\n            data[\\\"title\\\"] = title\\n        if content:\\n            data[\\\"content\\\"] = content\\n        resp = await self.client.put(endpoint, data=data)\\n        return resp.json()\\n\\n    def __repr__(self):\\n        return f\\\"<User {self.name}>\\\"\";\n",
       "                var nbb_formatted_code = \"import httpx\\nfrom typing import Optional\\n\\n\\nclass User:\\n    def __init__(self, name: str):\\n        self.name = name\\n        self.client = httpx.AsyncClient(\\n            base_url=\\\"http://backend:8000\\\",\\n            event_hooks={\\n                \\\"request\\\": [self.print_request],\\n                \\\"response\\\": [self.print_response],\\n            },\\n            follow_redirects=True,\\n        )\\n\\n    @classmethod\\n    async def create(cls, name: str, password: str):\\n        user = User(name)\\n        await user.login(password)\\n        return user\\n\\n    async def print_request(self, request):\\n        print(f\\\"<{self.name}> {request.method} {request.url}\\\")\\n\\n    async def print_response(self, resp):\\n        if resp.is_error:\\n            print(resp)\\n            print(resp.text)\\n            resp.raise_for_status()\\n\\n    async def login(self, password: str):\\n        endpoint = \\\"/auth/login\\\"\\n        data = {\\\"username\\\": self.name, \\\"password\\\": password}\\n        resp = await self.client.post(endpoint, data=data)\\n        resp.raise_for_status()\\n        token = resp.json()[\\\"access_token\\\"]\\n        token_type = resp.json()[\\\"token_type\\\"]\\n        self.client.headers[\\\"Authorization\\\"] = f\\\"{token_type} {token}\\\"\\n\\n    async def me(self):\\n        endpoint = \\\"/me\\\"\\n        resp = await self.client.get(endpoint)\\n        return resp.json()\\n\\n    async def get_todos(self):\\n        endpoint = \\\"/todo\\\"\\n        resp = await self.client.get(endpoint)\\n        return resp.json()\\n\\n    async def make_todo(self, title: str, content: str):\\n        endpoint = \\\"/todo\\\"\\n        data = {\\\"title\\\": title, \\\"content\\\": content}\\n        resp = await self.client.post(endpoint, json=data)\\n        return resp.json()\\n\\n    async def delete_todo(self, todo_id: str):\\n        endpoint = f\\\"/todo/{todo_id}\\\"\\n        resp = await self.client.delete(endpoint)\\n        return resp.json()\\n\\n    async def update_todo(\\n        self, todo_id: str, title: Optional[str], content: Optional[str]\\n    ):\\n        endpoint = f\\\"/todo/{todo_id}\\\"\\n        data = {}\\n        if title:\\n            data[\\\"title\\\"] = title\\n        if content:\\n            data[\\\"content\\\"] = content\\n        resp = await self.client.put(endpoint, data=data)\\n        return resp.json()\\n\\n    def __repr__(self):\\n        return f\\\"<User {self.name}>\\\"\";\n",
       "                var nbb_cells = Jupyter.notebook.get_cells();\n",
       "                for (var i = 0; i < nbb_cells.length; ++i) {\n",
       "                    if (nbb_cells[i].input_prompt_number == nbb_cell_id) {\n",
       "                        if (nbb_cells[i].get_text() == nbb_unformatted_code) {\n",
       "                             nbb_cells[i].set_text(nbb_formatted_code);\n",
       "                        }\n",
       "                        break;\n",
       "                    }\n",
       "                }\n",
       "            }, 500);\n",
       "            "
      ],
      "text/plain": [
       "<IPython.core.display.Javascript object>"
      ]
     },
     "metadata": {},
     "output_type": "display_data"
    }
   ],
   "source": [
    "import httpx\n",
    "from typing import Optional\n",
    "\n",
    "\n",
    "class User:\n",
    "    def __init__(self, name: str):\n",
    "        self.name = name\n",
    "        self.client = httpx.AsyncClient(\n",
    "            base_url=\"http://backend:8000\",\n",
    "            event_hooks={\n",
    "                \"request\": [self.print_request],\n",
    "                \"response\": [self.print_response],\n",
    "            },\n",
    "            follow_redirects=True,\n",
    "        )\n",
    "\n",
    "    @classmethod\n",
    "    async def create(cls, name: str, password: str):\n",
    "        user = User(name)\n",
    "        await user.login(password)\n",
    "        return user\n",
    "\n",
    "    async def print_request(self, request):\n",
    "        print(f\"<{self.name}> {request.method} {request.url}\")\n",
    "\n",
    "    async def print_response(self, resp):\n",
    "        if resp.is_error:\n",
    "            print(resp)\n",
    "            print(resp.text)\n",
    "            resp.raise_for_status()\n",
    "\n",
    "    async def login(self, password: str):\n",
    "        endpoint = \"/auth/login\"\n",
    "        data = {\"username\": self.name, \"password\": password}\n",
    "        resp = await self.client.post(endpoint, data=data)\n",
    "        resp.raise_for_status()\n",
    "        token = resp.json()[\"access_token\"]\n",
    "        token_type = resp.json()[\"token_type\"]\n",
    "        self.client.headers[\"Authorization\"] = f\"{token_type} {token}\"\n",
    "\n",
    "    async def me(self):\n",
    "        endpoint = \"/me\"\n",
    "        resp = await self.client.get(endpoint)\n",
    "        return resp.json()\n",
    "\n",
    "    async def get_todos(self):\n",
    "        endpoint = \"/todo\"\n",
    "        resp = await self.client.get(endpoint)\n",
    "        return resp.json()\n",
    "\n",
    "    async def make_todo(self, title: str, content: str):\n",
    "        endpoint = \"/todo\"\n",
    "        data = {\"title\": title, \"content\": content}\n",
    "        resp = await self.client.post(endpoint, json=data)\n",
    "        return resp.json()\n",
    "\n",
    "    async def delete_todo(self, todo_id: str):\n",
    "        endpoint = f\"/todo/{todo_id}\"\n",
    "        resp = await self.client.delete(endpoint)\n",
    "        return resp.json()\n",
    "\n",
    "    async def update_todo(\n",
    "        self, todo_id: str, title: Optional[str], content: Optional[str]\n",
    "    ):\n",
    "        endpoint = f\"/todo/{todo_id}\"\n",
    "        data = {}\n",
    "        if title:\n",
    "            data[\"title\"] = title\n",
    "        if content:\n",
    "            data[\"content\"] = content\n",
    "        resp = await self.client.put(endpoint, data=data)\n",
    "        return resp.json()\n",
    "\n",
    "    def __repr__(self):\n",
    "        return f\"<User {self.name}>\""
   ]
  },
  {
   "cell_type": "code",
   "execution_count": 3,
   "id": "6513eb9e",
   "metadata": {
    "ExecuteTime": {
     "end_time": "2021-10-29T13:39:35.241379Z",
     "start_time": "2021-10-29T13:39:34.447955Z"
    }
   },
   "outputs": [
    {
     "name": "stdout",
     "output_type": "stream",
     "text": [
      "<user1> POST http://backend:8000/auth/login\n",
      "<user2> POST http://backend:8000/auth/login\n",
      "<user3> POST http://backend:8000/auth/login\n",
      "<user4> POST http://backend:8000/auth/login\n",
      "<user5> POST http://backend:8000/auth/login\n",
      "<user6> POST http://backend:8000/auth/login\n",
      "<user7> POST http://backend:8000/auth/login\n",
      "<user8> POST http://backend:8000/auth/login\n",
      "<user9> POST http://backend:8000/auth/login\n",
      "<user10> POST http://backend:8000/auth/login\n"
     ]
    },
    {
     "data": {
      "text/plain": [
       "[<User user1>,\n",
       " <User user2>,\n",
       " <User user3>,\n",
       " <User user4>,\n",
       " <User user5>,\n",
       " <User user6>,\n",
       " <User user7>,\n",
       " <User user8>,\n",
       " <User user9>,\n",
       " <User user10>]"
      ]
     },
     "execution_count": 3,
     "metadata": {},
     "output_type": "execute_result"
    },
    {
     "data": {
      "application/javascript": [
       "\n",
       "            setTimeout(function() {\n",
       "                var nbb_cell_id = 3;\n",
       "                var nbb_unformatted_code = \"import asyncio\\n\\ncoros = []\\n\\nfor i in range(1, 11):\\n    name = f\\\"user{i}\\\"\\n    coro = User.create(name, \\\"pass\\\")\\n    coros.append(coro)\\n\\nusers = await asyncio.gather(*coros)\\nusers\";\n",
       "                var nbb_formatted_code = \"import asyncio\\n\\ncoros = []\\n\\nfor i in range(1, 11):\\n    name = f\\\"user{i}\\\"\\n    coro = User.create(name, \\\"pass\\\")\\n    coros.append(coro)\\n\\nusers = await asyncio.gather(*coros)\\nusers\";\n",
       "                var nbb_cells = Jupyter.notebook.get_cells();\n",
       "                for (var i = 0; i < nbb_cells.length; ++i) {\n",
       "                    if (nbb_cells[i].input_prompt_number == nbb_cell_id) {\n",
       "                        if (nbb_cells[i].get_text() == nbb_unformatted_code) {\n",
       "                             nbb_cells[i].set_text(nbb_formatted_code);\n",
       "                        }\n",
       "                        break;\n",
       "                    }\n",
       "                }\n",
       "            }, 500);\n",
       "            "
      ],
      "text/plain": [
       "<IPython.core.display.Javascript object>"
      ]
     },
     "metadata": {},
     "output_type": "display_data"
    }
   ],
   "source": [
    "import asyncio\n",
    "\n",
    "coros = []\n",
    "\n",
    "for i in range(1, 11):\n",
    "    name = f\"user{i}\"\n",
    "    coro = User.create(name, \"pass\")\n",
    "    coros.append(coro)\n",
    "\n",
    "users = await asyncio.gather(*coros)\n",
    "users"
   ]
  },
  {
   "cell_type": "code",
   "execution_count": 4,
   "id": "e57f0509",
   "metadata": {
    "ExecuteTime": {
     "end_time": "2021-10-29T13:39:35.691975Z",
     "start_time": "2021-10-29T13:39:35.243685Z"
    }
   },
   "outputs": [
    {
     "data": {
      "text/plain": [
       "[<coroutine object act at 0x7f357b42b9c0>,\n",
       " <coroutine object act at 0x7f357b42bc40>,\n",
       " <coroutine object act at 0x7f357b42bcc0>,\n",
       " <coroutine object act at 0x7f357b42bd40>,\n",
       " <coroutine object act at 0x7f357b42bdc0>,\n",
       " <coroutine object act at 0x7f357b42be40>,\n",
       " <coroutine object act at 0x7f357b42bec0>,\n",
       " <coroutine object act at 0x7f357b42bf40>,\n",
       " <coroutine object act at 0x7f357b42b240>,\n",
       " <coroutine object act at 0x7f357b42b2c0>]"
      ]
     },
     "execution_count": 4,
     "metadata": {},
     "output_type": "execute_result"
    },
    {
     "data": {
      "application/javascript": [
       "\n",
       "            setTimeout(function() {\n",
       "                var nbb_cell_id = 4;\n",
       "                var nbb_unformatted_code = \"import random\\n\\ncoros = []\\n\\n\\nasync def act(user):\\n    await asyncio.sleep(random.random())\\n    await user.me()\\n    await user.get_todos()\\n    todo = await user.make_todo(title=\\\"note 1\\\", content=\\\"content 1\\\")\\n    await user.update_todo(todo[\\\"id\\\"], title=\\\"updated title\\\", content=\\\"updated content\\\")\\n    await user.delete_todo(todo[\\\"id\\\"])\\n\\n\\nfor user in users:\\n    coro = act(user)\\n    coros.append(coro)\\n\\ncoros\";\n",
       "                var nbb_formatted_code = \"import random\\n\\ncoros = []\\n\\n\\nasync def act(user):\\n    await asyncio.sleep(random.random())\\n    await user.me()\\n    await user.get_todos()\\n    todo = await user.make_todo(title=\\\"note 1\\\", content=\\\"content 1\\\")\\n    await user.update_todo(todo[\\\"id\\\"], title=\\\"updated title\\\", content=\\\"updated content\\\")\\n    await user.delete_todo(todo[\\\"id\\\"])\\n\\n\\nfor user in users:\\n    coro = act(user)\\n    coros.append(coro)\\n\\ncoros\";\n",
       "                var nbb_cells = Jupyter.notebook.get_cells();\n",
       "                for (var i = 0; i < nbb_cells.length; ++i) {\n",
       "                    if (nbb_cells[i].input_prompt_number == nbb_cell_id) {\n",
       "                        if (nbb_cells[i].get_text() == nbb_unformatted_code) {\n",
       "                             nbb_cells[i].set_text(nbb_formatted_code);\n",
       "                        }\n",
       "                        break;\n",
       "                    }\n",
       "                }\n",
       "            }, 500);\n",
       "            "
      ],
      "text/plain": [
       "<IPython.core.display.Javascript object>"
      ]
     },
     "metadata": {},
     "output_type": "display_data"
    }
   ],
   "source": [
    "import random\n",
    "\n",
    "coros = []\n",
    "\n",
    "\n",
    "async def act(user):\n",
    "    await asyncio.sleep(random.random())\n",
    "    await user.me()\n",
    "    await user.get_todos()\n",
    "    todo = await user.make_todo(title=\"note 1\", content=\"content 1\")\n",
    "    await user.update_todo(todo[\"id\"], title=\"updated title\", content=\"updated content\")\n",
    "    await user.delete_todo(todo[\"id\"])\n",
    "\n",
    "\n",
    "for user in users:\n",
    "    coro = act(user)\n",
    "    coros.append(coro)\n",
    "\n",
    "coros"
   ]
  },
  {
   "cell_type": "code",
   "execution_count": 5,
   "id": "e5eb114d",
   "metadata": {
    "ExecuteTime": {
     "end_time": "2021-10-29T13:39:41.246620Z",
     "start_time": "2021-10-29T13:39:35.694704Z"
    }
   },
   "outputs": [
    {
     "name": "stdout",
     "output_type": "stream",
     "text": [
      "<user2> GET http://backend:8000/me\n",
      "<user2> GET http://backend:8000/todo\n",
      "<user2> GET http://backend:8000/todo/\n",
      "<user2> POST http://backend:8000/todo\n",
      "<user2> POST http://backend:8000/todo/\n",
      "<user1> GET http://backend:8000/me\n",
      "<user7> GET http://backend:8000/me\n",
      "<user1> GET http://backend:8000/todo\n",
      "<user1> GET http://backend:8000/todo/\n",
      "<user7> GET http://backend:8000/todo\n",
      "<user7> GET http://backend:8000/todo/\n",
      "<user5> GET http://backend:8000/me\n",
      "<user5> GET http://backend:8000/todo\n",
      "<user5> GET http://backend:8000/todo/\n",
      "<user6> GET http://backend:8000/me\n",
      "<user6> GET http://backend:8000/todo\n",
      "<user6> GET http://backend:8000/todo/\n",
      "<user8> GET http://backend:8000/me\n",
      "<user8> GET http://backend:8000/todo\n",
      "<user8> GET http://backend:8000/todo/\n",
      "<user4> GET http://backend:8000/me\n",
      "<user4> GET http://backend:8000/todo\n",
      "<user4> GET http://backend:8000/todo/\n",
      "<user3> GET http://backend:8000/me\n",
      "<user3> GET http://backend:8000/todo\n",
      "<user3> GET http://backend:8000/todo/\n",
      "<user9> GET http://backend:8000/me\n",
      "<user10> GET http://backend:8000/me\n",
      "<user9> GET http://backend:8000/todo\n",
      "<user9> GET http://backend:8000/todo/\n",
      "<user10> GET http://backend:8000/todo\n",
      "<user10> GET http://backend:8000/todo/\n",
      "<user10> POST http://backend:8000/todo\n",
      "<user9> POST http://backend:8000/todo\n",
      "<user3> POST http://backend:8000/todo\n",
      "<user1> POST http://backend:8000/todo\n",
      "<user6> POST http://backend:8000/todo\n",
      "<user5> POST http://backend:8000/todo\n",
      "<user7> POST http://backend:8000/todo\n",
      "<user8> POST http://backend:8000/todo\n",
      "<user4> POST http://backend:8000/todo\n",
      "<user10> POST http://backend:8000/todo/\n",
      "<user6> POST http://backend:8000/todo/\n",
      "<user5> POST http://backend:8000/todo/\n",
      "<user7> POST http://backend:8000/todo/\n",
      "<user4> POST http://backend:8000/todo/\n",
      "<user2> PUT http://backend:8000/todo/023feec3-b89e-4313-9fa8-af0527b0e24b\n",
      "<user1> POST http://backend:8000/todo/\n",
      "<user3> POST http://backend:8000/todo/\n",
      "<user9> POST http://backend:8000/todo/\n",
      "<user8> POST http://backend:8000/todo/\n",
      "<user2> DELETE http://backend:8000/todo/023feec3-b89e-4313-9fa8-af0527b0e24b\n",
      "<user4> PUT http://backend:8000/todo/69c708dd-da1b-401f-8cfc-6af31aeb520b\n",
      "<user3> PUT http://backend:8000/todo/c0b13533-0861-49fb-a84b-142674934d0f\n",
      "<user1> PUT http://backend:8000/todo/565c4a93-3747-47c1-a1b5-71eb9464bd81\n",
      "<user9> PUT http://backend:8000/todo/f421abfa-eb4b-4091-af73-d536425af908\n",
      "<user8> PUT http://backend:8000/todo/74e6610d-52f8-44c2-b404-caaa3eaa0eba\n",
      "<user7> PUT http://backend:8000/todo/f2ce23d8-058d-4a02-b36f-17672ce57a6c\n",
      "<user5> PUT http://backend:8000/todo/514914bb-fc99-4ed2-b384-506e719d995c\n",
      "<user6> PUT http://backend:8000/todo/52680eee-3a8e-4fc3-86b3-829f41525429\n",
      "<user10> PUT http://backend:8000/todo/b2fb59ba-1b7c-476d-93cb-ea5d3543e7ae\n",
      "<user4> DELETE http://backend:8000/todo/69c708dd-da1b-401f-8cfc-6af31aeb520b\n",
      "<user10> DELETE http://backend:8000/todo/b2fb59ba-1b7c-476d-93cb-ea5d3543e7ae\n",
      "<user8> DELETE http://backend:8000/todo/74e6610d-52f8-44c2-b404-caaa3eaa0eba\n",
      "<user1> DELETE http://backend:8000/todo/565c4a93-3747-47c1-a1b5-71eb9464bd81\n",
      "<user5> DELETE http://backend:8000/todo/514914bb-fc99-4ed2-b384-506e719d995c\n",
      "<user9> DELETE http://backend:8000/todo/f421abfa-eb4b-4091-af73-d536425af908\n",
      "<user3> DELETE http://backend:8000/todo/c0b13533-0861-49fb-a84b-142674934d0f\n",
      "<user6> DELETE http://backend:8000/todo/52680eee-3a8e-4fc3-86b3-829f41525429\n",
      "<user7> DELETE http://backend:8000/todo/f2ce23d8-058d-4a02-b36f-17672ce57a6c\n"
     ]
    },
    {
     "data": {
      "text/plain": [
       "[None, None, None, None, None, None, None, None, None, None]"
      ]
     },
     "execution_count": 5,
     "metadata": {},
     "output_type": "execute_result"
    },
    {
     "data": {
      "application/javascript": [
       "\n",
       "            setTimeout(function() {\n",
       "                var nbb_cell_id = 5;\n",
       "                var nbb_unformatted_code = \"await asyncio.gather(*coros)\";\n",
       "                var nbb_formatted_code = \"await asyncio.gather(*coros)\";\n",
       "                var nbb_cells = Jupyter.notebook.get_cells();\n",
       "                for (var i = 0; i < nbb_cells.length; ++i) {\n",
       "                    if (nbb_cells[i].input_prompt_number == nbb_cell_id) {\n",
       "                        if (nbb_cells[i].get_text() == nbb_unformatted_code) {\n",
       "                             nbb_cells[i].set_text(nbb_formatted_code);\n",
       "                        }\n",
       "                        break;\n",
       "                    }\n",
       "                }\n",
       "            }, 500);\n",
       "            "
      ],
      "text/plain": [
       "<IPython.core.display.Javascript object>"
      ]
     },
     "metadata": {},
     "output_type": "display_data"
    }
   ],
   "source": [
    "await asyncio.gather(*coros)"
   ]
  },
  {
   "cell_type": "code",
   "execution_count": null,
   "id": "643952df",
   "metadata": {},
   "outputs": [],
   "source": []
  },
  {
   "cell_type": "code",
   "execution_count": null,
   "id": "c00376ce",
   "metadata": {},
   "outputs": [],
   "source": []
  }
 ],
 "metadata": {
  "kernelspec": {
   "display_name": "Python 3 (ipykernel)",
   "language": "python",
   "name": "python3"
  },
  "language_info": {
   "codemirror_mode": {
    "name": "ipython",
    "version": 3
   },
   "file_extension": ".py",
   "mimetype": "text/x-python",
   "name": "python",
   "nbconvert_exporter": "python",
   "pygments_lexer": "ipython3",
   "version": "3.9.7"
  },
  "toc": {
   "base_numbering": 1,
   "nav_menu": {},
   "number_sections": true,
   "sideBar": true,
   "skip_h1_title": false,
   "title_cell": "Table of Contents",
   "title_sidebar": "Contents",
   "toc_cell": false,
   "toc_position": {},
   "toc_section_display": true,
   "toc_window_display": true
  }
 },
 "nbformat": 4,
 "nbformat_minor": 5
}
