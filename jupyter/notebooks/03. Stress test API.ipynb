{
 "cells": [
  {
   "cell_type": "markdown",
   "id": "5b298917",
   "metadata": {},
   "source": [
    "# Overview\n",
    "\n",
    "This Notebook will simulate many users trying to talk to the API at the same time.  It's useful for testing out different profiling methods or demonstrating problems like slow database queries and blocking in async."
   ]
  },
  {
   "cell_type": "code",
   "execution_count": 1,
   "id": "01ad7e02",
   "metadata": {
    "ExecuteTime": {
     "end_time": "2021-11-04T20:07:35.455764Z",
     "start_time": "2021-11-04T20:07:35.349797Z"
    }
   },
   "outputs": [
    {
     "data": {
      "application/javascript": [
       "\n",
       "            setTimeout(function() {\n",
       "                var nbb_cell_id = 1;\n",
       "                var nbb_unformatted_code = \"%load_ext nb_black\";\n",
       "                var nbb_formatted_code = \"%load_ext nb_black\";\n",
       "                var nbb_cells = Jupyter.notebook.get_cells();\n",
       "                for (var i = 0; i < nbb_cells.length; ++i) {\n",
       "                    if (nbb_cells[i].input_prompt_number == nbb_cell_id) {\n",
       "                        if (nbb_cells[i].get_text() == nbb_unformatted_code) {\n",
       "                             nbb_cells[i].set_text(nbb_formatted_code);\n",
       "                        }\n",
       "                        break;\n",
       "                    }\n",
       "                }\n",
       "            }, 500);\n",
       "            "
      ],
      "text/plain": [
       "<IPython.core.display.Javascript object>"
      ]
     },
     "metadata": {},
     "output_type": "display_data"
    }
   ],
   "source": [
    "%load_ext nb_black"
   ]
  },
  {
   "cell_type": "code",
   "execution_count": 2,
   "id": "4c59f5b7",
   "metadata": {
    "ExecuteTime": {
     "end_time": "2021-11-04T20:07:36.154237Z",
     "start_time": "2021-11-04T20:07:35.459067Z"
    }
   },
   "outputs": [
    {
     "data": {
      "application/javascript": [
       "\n",
       "            setTimeout(function() {\n",
       "                var nbb_cell_id = 2;\n",
       "                var nbb_unformatted_code = \"import httpx\\nfrom typing import Optional\\n\\n\\nclass User:\\n    def __init__(self, name: str):\\n        self.name = name\\n        self.client = httpx.AsyncClient(\\n            base_url=\\\"http://backend:8000\\\",\\n            event_hooks={\\n                \\\"request\\\": [self.print_request],\\n                \\\"response\\\": [self.print_response],\\n            },\\n            follow_redirects=True,\\n        )\\n\\n    @classmethod\\n    async def create(cls, name: str, password: str):\\n        user = User(name)\\n        await user.login(password)\\n        return user\\n\\n    async def print_request(self, request):\\n        print(f\\\"<{self.name}> {request.method} {request.url}\\\")\\n\\n    async def print_response(self, resp):\\n        if resp.is_error:\\n            print(resp)\\n            print(resp.text)\\n            resp.raise_for_status()\\n\\n    async def login(self, password: str):\\n        endpoint = \\\"/auth/login\\\"\\n        data = {\\\"username\\\": self.name, \\\"password\\\": password}\\n        resp = await self.client.post(endpoint, data=data)\\n        resp.raise_for_status()\\n        token = resp.json()[\\\"access_token\\\"]\\n        token_type = resp.json()[\\\"token_type\\\"]\\n        self.client.headers[\\\"Authorization\\\"] = f\\\"{token_type} {token}\\\"\\n\\n    async def me(self):\\n        endpoint = \\\"/me\\\"\\n        resp = await self.client.get(endpoint)\\n        return resp.json()\\n\\n    async def get_todos(self):\\n        endpoint = \\\"/todo\\\"\\n        resp = await self.client.get(endpoint)\\n        return resp.json()\\n\\n    async def make_todo(self, title: str, content: str):\\n        endpoint = \\\"/todo\\\"\\n        data = {\\\"title\\\": title, \\\"content\\\": content}\\n        resp = await self.client.post(endpoint, json=data)\\n        return resp.json()\\n\\n    async def delete_todo(self, todo_id: str):\\n        endpoint = f\\\"/todo/{todo_id}\\\"\\n        resp = await self.client.delete(endpoint)\\n        return resp.json()\\n\\n    async def update_todo(\\n        self, todo_id: str, title: Optional[str], content: Optional[str]\\n    ):\\n        endpoint = f\\\"/todo/{todo_id}\\\"\\n        data = {}\\n        if title:\\n            data[\\\"title\\\"] = title\\n        if content:\\n            data[\\\"content\\\"] = content\\n        resp = await self.client.put(endpoint, json=data)\\n        return resp.json()\\n\\n    def __repr__(self):\\n        return f\\\"<User {self.name}>\\\"\";\n",
       "                var nbb_formatted_code = \"import httpx\\nfrom typing import Optional\\n\\n\\nclass User:\\n    def __init__(self, name: str):\\n        self.name = name\\n        self.client = httpx.AsyncClient(\\n            base_url=\\\"http://backend:8000\\\",\\n            event_hooks={\\n                \\\"request\\\": [self.print_request],\\n                \\\"response\\\": [self.print_response],\\n            },\\n            follow_redirects=True,\\n        )\\n\\n    @classmethod\\n    async def create(cls, name: str, password: str):\\n        user = User(name)\\n        await user.login(password)\\n        return user\\n\\n    async def print_request(self, request):\\n        print(f\\\"<{self.name}> {request.method} {request.url}\\\")\\n\\n    async def print_response(self, resp):\\n        if resp.is_error:\\n            print(resp)\\n            print(resp.text)\\n            resp.raise_for_status()\\n\\n    async def login(self, password: str):\\n        endpoint = \\\"/auth/login\\\"\\n        data = {\\\"username\\\": self.name, \\\"password\\\": password}\\n        resp = await self.client.post(endpoint, data=data)\\n        resp.raise_for_status()\\n        token = resp.json()[\\\"access_token\\\"]\\n        token_type = resp.json()[\\\"token_type\\\"]\\n        self.client.headers[\\\"Authorization\\\"] = f\\\"{token_type} {token}\\\"\\n\\n    async def me(self):\\n        endpoint = \\\"/me\\\"\\n        resp = await self.client.get(endpoint)\\n        return resp.json()\\n\\n    async def get_todos(self):\\n        endpoint = \\\"/todo\\\"\\n        resp = await self.client.get(endpoint)\\n        return resp.json()\\n\\n    async def make_todo(self, title: str, content: str):\\n        endpoint = \\\"/todo\\\"\\n        data = {\\\"title\\\": title, \\\"content\\\": content}\\n        resp = await self.client.post(endpoint, json=data)\\n        return resp.json()\\n\\n    async def delete_todo(self, todo_id: str):\\n        endpoint = f\\\"/todo/{todo_id}\\\"\\n        resp = await self.client.delete(endpoint)\\n        return resp.json()\\n\\n    async def update_todo(\\n        self, todo_id: str, title: Optional[str], content: Optional[str]\\n    ):\\n        endpoint = f\\\"/todo/{todo_id}\\\"\\n        data = {}\\n        if title:\\n            data[\\\"title\\\"] = title\\n        if content:\\n            data[\\\"content\\\"] = content\\n        resp = await self.client.put(endpoint, json=data)\\n        return resp.json()\\n\\n    def __repr__(self):\\n        return f\\\"<User {self.name}>\\\"\";\n",
       "                var nbb_cells = Jupyter.notebook.get_cells();\n",
       "                for (var i = 0; i < nbb_cells.length; ++i) {\n",
       "                    if (nbb_cells[i].input_prompt_number == nbb_cell_id) {\n",
       "                        if (nbb_cells[i].get_text() == nbb_unformatted_code) {\n",
       "                             nbb_cells[i].set_text(nbb_formatted_code);\n",
       "                        }\n",
       "                        break;\n",
       "                    }\n",
       "                }\n",
       "            }, 500);\n",
       "            "
      ],
      "text/plain": [
       "<IPython.core.display.Javascript object>"
      ]
     },
     "metadata": {},
     "output_type": "display_data"
    }
   ],
   "source": [
    "import httpx\n",
    "from typing import Optional\n",
    "\n",
    "\n",
    "class User:\n",
    "    def __init__(self, name: str):\n",
    "        self.name = name\n",
    "        self.client = httpx.AsyncClient(\n",
    "            base_url=\"http://backend:8000\",\n",
    "            event_hooks={\n",
    "                \"request\": [self.print_request],\n",
    "                \"response\": [self.print_response],\n",
    "            },\n",
    "            follow_redirects=True,\n",
    "        )\n",
    "\n",
    "    @classmethod\n",
    "    async def create(cls, name: str, password: str):\n",
    "        user = User(name)\n",
    "        await user.login(password)\n",
    "        return user\n",
    "\n",
    "    async def print_request(self, request):\n",
    "        print(f\"<{self.name}> {request.method} {request.url}\")\n",
    "\n",
    "    async def print_response(self, resp):\n",
    "        if resp.is_error:\n",
    "            print(resp)\n",
    "            print(resp.text)\n",
    "            resp.raise_for_status()\n",
    "\n",
    "    async def login(self, password: str):\n",
    "        endpoint = \"/auth/login\"\n",
    "        data = {\"username\": self.name, \"password\": password}\n",
    "        resp = await self.client.post(endpoint, data=data)\n",
    "        resp.raise_for_status()\n",
    "        token = resp.json()[\"access_token\"]\n",
    "        token_type = resp.json()[\"token_type\"]\n",
    "        self.client.headers[\"Authorization\"] = f\"{token_type} {token}\"\n",
    "\n",
    "    async def me(self):\n",
    "        endpoint = \"/me\"\n",
    "        resp = await self.client.get(endpoint)\n",
    "        return resp.json()\n",
    "\n",
    "    async def get_todos(self):\n",
    "        endpoint = \"/todo\"\n",
    "        resp = await self.client.get(endpoint)\n",
    "        return resp.json()\n",
    "\n",
    "    async def make_todo(self, title: str, content: str):\n",
    "        endpoint = \"/todo\"\n",
    "        data = {\"title\": title, \"content\": content}\n",
    "        resp = await self.client.post(endpoint, json=data)\n",
    "        return resp.json()\n",
    "\n",
    "    async def delete_todo(self, todo_id: str):\n",
    "        endpoint = f\"/todo/{todo_id}\"\n",
    "        resp = await self.client.delete(endpoint)\n",
    "        return resp.json()\n",
    "\n",
    "    async def update_todo(\n",
    "        self, todo_id: str, title: Optional[str], content: Optional[str]\n",
    "    ):\n",
    "        endpoint = f\"/todo/{todo_id}\"\n",
    "        data = {}\n",
    "        if title:\n",
    "            data[\"title\"] = title\n",
    "        if content:\n",
    "            data[\"content\"] = content\n",
    "        resp = await self.client.put(endpoint, json=data)\n",
    "        return resp.json()\n",
    "\n",
    "    def __repr__(self):\n",
    "        return f\"<User {self.name}>\""
   ]
  },
  {
   "cell_type": "code",
   "execution_count": 3,
   "id": "6513eb9e",
   "metadata": {
    "ExecuteTime": {
     "end_time": "2021-11-04T20:07:36.997833Z",
     "start_time": "2021-11-04T20:07:36.157321Z"
    }
   },
   "outputs": [
    {
     "name": "stdout",
     "output_type": "stream",
     "text": [
      "<user1> POST http://backend:8000/auth/login\n",
      "<user2> POST http://backend:8000/auth/login\n",
      "<user3> POST http://backend:8000/auth/login\n",
      "<user4> POST http://backend:8000/auth/login\n",
      "<user5> POST http://backend:8000/auth/login\n",
      "<user6> POST http://backend:8000/auth/login\n",
      "<user7> POST http://backend:8000/auth/login\n",
      "<user8> POST http://backend:8000/auth/login\n",
      "<user9> POST http://backend:8000/auth/login\n",
      "<user10> POST http://backend:8000/auth/login\n"
     ]
    },
    {
     "data": {
      "text/plain": [
       "[<User user1>,\n",
       " <User user2>,\n",
       " <User user3>,\n",
       " <User user4>,\n",
       " <User user5>,\n",
       " <User user6>,\n",
       " <User user7>,\n",
       " <User user8>,\n",
       " <User user9>,\n",
       " <User user10>]"
      ]
     },
     "execution_count": 3,
     "metadata": {},
     "output_type": "execute_result"
    },
    {
     "data": {
      "application/javascript": [
       "\n",
       "            setTimeout(function() {\n",
       "                var nbb_cell_id = 3;\n",
       "                var nbb_unformatted_code = \"import asyncio\\n\\ncoros = []\\n\\nfor i in range(1, 11):\\n    name = f\\\"user{i}\\\"\\n    coro = User.create(name, \\\"pass\\\")\\n    coros.append(coro)\\n\\nusers = await asyncio.gather(*coros)\\nusers\";\n",
       "                var nbb_formatted_code = \"import asyncio\\n\\ncoros = []\\n\\nfor i in range(1, 11):\\n    name = f\\\"user{i}\\\"\\n    coro = User.create(name, \\\"pass\\\")\\n    coros.append(coro)\\n\\nusers = await asyncio.gather(*coros)\\nusers\";\n",
       "                var nbb_cells = Jupyter.notebook.get_cells();\n",
       "                for (var i = 0; i < nbb_cells.length; ++i) {\n",
       "                    if (nbb_cells[i].input_prompt_number == nbb_cell_id) {\n",
       "                        if (nbb_cells[i].get_text() == nbb_unformatted_code) {\n",
       "                             nbb_cells[i].set_text(nbb_formatted_code);\n",
       "                        }\n",
       "                        break;\n",
       "                    }\n",
       "                }\n",
       "            }, 500);\n",
       "            "
      ],
      "text/plain": [
       "<IPython.core.display.Javascript object>"
      ]
     },
     "metadata": {},
     "output_type": "display_data"
    }
   ],
   "source": [
    "import asyncio\n",
    "\n",
    "coros = []\n",
    "\n",
    "for i in range(1, 11):\n",
    "    name = f\"user{i}\"\n",
    "    coro = User.create(name, \"pass\")\n",
    "    coros.append(coro)\n",
    "\n",
    "users = await asyncio.gather(*coros)\n",
    "users"
   ]
  },
  {
   "cell_type": "code",
   "execution_count": 4,
   "id": "e57f0509",
   "metadata": {
    "ExecuteTime": {
     "end_time": "2021-11-04T20:07:37.380258Z",
     "start_time": "2021-11-04T20:07:37.000627Z"
    }
   },
   "outputs": [
    {
     "data": {
      "text/plain": [
       "[<coroutine object act at 0x7fbfe8073cc0>,\n",
       " <coroutine object act at 0x7fbfcf4b75c0>,\n",
       " <coroutine object act at 0x7fbfcf4b7640>,\n",
       " <coroutine object act at 0x7fbfcf4b76c0>,\n",
       " <coroutine object act at 0x7fbfcf4b7540>,\n",
       " <coroutine object act at 0x7fbfcf4b7740>,\n",
       " <coroutine object act at 0x7fbfcf4b77c0>,\n",
       " <coroutine object act at 0x7fbfcf4b7840>,\n",
       " <coroutine object act at 0x7fbfcf4b78c0>,\n",
       " <coroutine object act at 0x7fbfcf4b79c0>]"
      ]
     },
     "execution_count": 4,
     "metadata": {},
     "output_type": "execute_result"
    },
    {
     "data": {
      "application/javascript": [
       "\n",
       "            setTimeout(function() {\n",
       "                var nbb_cell_id = 4;\n",
       "                var nbb_unformatted_code = \"import random\\n\\ncoros = []\\n\\n\\nasync def act(user):\\n    await asyncio.sleep(random.random())\\n    await user.me()\\n    await user.get_todos()\\n    todo = await user.make_todo(title=\\\"note 1\\\", content=\\\"content 1\\\")\\n    await user.update_todo(todo[\\\"id\\\"], title=\\\"updated title\\\", content=\\\"updated content\\\")\\n    await user.delete_todo(todo[\\\"id\\\"])\\n\\n\\nfor user in users:\\n    coro = act(user)\\n    coros.append(coro)\\n\\ncoros\";\n",
       "                var nbb_formatted_code = \"import random\\n\\ncoros = []\\n\\n\\nasync def act(user):\\n    await asyncio.sleep(random.random())\\n    await user.me()\\n    await user.get_todos()\\n    todo = await user.make_todo(title=\\\"note 1\\\", content=\\\"content 1\\\")\\n    await user.update_todo(todo[\\\"id\\\"], title=\\\"updated title\\\", content=\\\"updated content\\\")\\n    await user.delete_todo(todo[\\\"id\\\"])\\n\\n\\nfor user in users:\\n    coro = act(user)\\n    coros.append(coro)\\n\\ncoros\";\n",
       "                var nbb_cells = Jupyter.notebook.get_cells();\n",
       "                for (var i = 0; i < nbb_cells.length; ++i) {\n",
       "                    if (nbb_cells[i].input_prompt_number == nbb_cell_id) {\n",
       "                        if (nbb_cells[i].get_text() == nbb_unformatted_code) {\n",
       "                             nbb_cells[i].set_text(nbb_formatted_code);\n",
       "                        }\n",
       "                        break;\n",
       "                    }\n",
       "                }\n",
       "            }, 500);\n",
       "            "
      ],
      "text/plain": [
       "<IPython.core.display.Javascript object>"
      ]
     },
     "metadata": {},
     "output_type": "display_data"
    }
   ],
   "source": [
    "import random\n",
    "\n",
    "coros = []\n",
    "\n",
    "\n",
    "async def act(user):\n",
    "    await asyncio.sleep(random.random())\n",
    "    await user.me()\n",
    "    await user.get_todos()\n",
    "    todo = await user.make_todo(title=\"note 1\", content=\"content 1\")\n",
    "    await user.update_todo(todo[\"id\"], title=\"updated title\", content=\"updated content\")\n",
    "    await user.delete_todo(todo[\"id\"])\n",
    "\n",
    "\n",
    "for user in users:\n",
    "    coro = act(user)\n",
    "    coros.append(coro)\n",
    "\n",
    "coros"
   ]
  },
  {
   "cell_type": "code",
   "execution_count": 5,
   "id": "e5eb114d",
   "metadata": {
    "ExecuteTime": {
     "end_time": "2021-11-04T20:07:43.418946Z",
     "start_time": "2021-11-04T20:07:37.383325Z"
    }
   },
   "outputs": [
    {
     "name": "stdout",
     "output_type": "stream",
     "text": [
      "<user9> GET http://backend:8000/me\n",
      "<user9> GET http://backend:8000/todo\n",
      "<user9> GET http://backend:8000/todo/\n",
      "<user4> GET http://backend:8000/me\n",
      "<user4> GET http://backend:8000/todo\n",
      "<user9> POST http://backend:8000/todo\n",
      "<user10> GET http://backend:8000/me\n",
      "<user4> GET http://backend:8000/todo/\n",
      "<user3> GET http://backend:8000/me\n",
      "<user9> POST http://backend:8000/todo/\n",
      "<user10> GET http://backend:8000/todo\n",
      "<user3> GET http://backend:8000/todo\n",
      "<user10> GET http://backend:8000/todo/\n",
      "<user4> POST http://backend:8000/todo\n",
      "<user3> GET http://backend:8000/todo/\n",
      "<user4> POST http://backend:8000/todo/\n",
      "<user2> GET http://backend:8000/me\n",
      "<user8> GET http://backend:8000/me\n",
      "<user1> GET http://backend:8000/me\n",
      "<user2> GET http://backend:8000/todo\n",
      "<user2> GET http://backend:8000/todo/\n",
      "<user8> GET http://backend:8000/todo\n",
      "<user8> GET http://backend:8000/todo/\n",
      "<user1> GET http://backend:8000/todo\n",
      "<user1> GET http://backend:8000/todo/\n",
      "<user7> GET http://backend:8000/me\n",
      "<user7> GET http://backend:8000/todo\n",
      "<user7> GET http://backend:8000/todo/\n",
      "<user5> GET http://backend:8000/me\n",
      "<user5> GET http://backend:8000/todo\n",
      "<user5> GET http://backend:8000/todo/\n",
      "<user6> GET http://backend:8000/me\n",
      "<user6> GET http://backend:8000/todo\n",
      "<user6> GET http://backend:8000/todo/\n",
      "<user9> PUT http://backend:8000/todo/ed25a7da-e2f5-4e3d-95ec-76fe15728e42\n",
      "<user4> PUT http://backend:8000/todo/6d1b2db2-98cb-464c-9ab1-67a0e3fd9265\n",
      "<user1> POST http://backend:8000/todo\n",
      "<user3> POST http://backend:8000/todo\n",
      "<user10> POST http://backend:8000/todo\n",
      "<user6> POST http://backend:8000/todo\n",
      "<user7> POST http://backend:8000/todo\n",
      "<user5> POST http://backend:8000/todo\n",
      "<user8> POST http://backend:8000/todo\n",
      "<user2> POST http://backend:8000/todo\n",
      "<user10> POST http://backend:8000/todo/\n",
      "<user6> POST http://backend:8000/todo/\n",
      "<user7> POST http://backend:8000/todo/\n",
      "<user5> POST http://backend:8000/todo/\n",
      "<user1> POST http://backend:8000/todo/\n",
      "<user3> POST http://backend:8000/todo/\n",
      "<user8> POST http://backend:8000/todo/\n",
      "<user2> POST http://backend:8000/todo/\n",
      "<user9> DELETE http://backend:8000/todo/ed25a7da-e2f5-4e3d-95ec-76fe15728e42\n",
      "<user4> DELETE http://backend:8000/todo/6d1b2db2-98cb-464c-9ab1-67a0e3fd9265\n",
      "<user10> PUT http://backend:8000/todo/a33c8a27-8cb7-497f-9c2c-2ac328743a44\n",
      "<user3> PUT http://backend:8000/todo/777acfb3-82aa-4616-bd74-0fefd3bdd98f\n",
      "<user8> PUT http://backend:8000/todo/d34cf406-5954-420e-a03a-3003524c2ac5\n",
      "<user2> PUT http://backend:8000/todo/af922d42-38f5-4d0c-8633-55d3c0312fe3\n",
      "<user1> PUT http://backend:8000/todo/3cb85fa9-6c05-46b1-87bd-d6b82e2a6096\n",
      "<user6> PUT http://backend:8000/todo/bbd94aaf-9bd3-4b14-b221-7500266d9ead\n",
      "<user5> PUT http://backend:8000/todo/8fd934f5-8ff5-4c8f-bcc0-391bcd4dae6b\n",
      "<user7> PUT http://backend:8000/todo/8393d82f-25b4-431d-a77e-f5da26a0ad78\n",
      "<user10> DELETE http://backend:8000/todo/a33c8a27-8cb7-497f-9c2c-2ac328743a44\n",
      "<user1> DELETE http://backend:8000/todo/3cb85fa9-6c05-46b1-87bd-d6b82e2a6096\n",
      "<user8> DELETE http://backend:8000/todo/d34cf406-5954-420e-a03a-3003524c2ac5\n",
      "<user3> DELETE http://backend:8000/todo/777acfb3-82aa-4616-bd74-0fefd3bdd98f\n",
      "<user7> DELETE http://backend:8000/todo/8393d82f-25b4-431d-a77e-f5da26a0ad78\n",
      "<user6> DELETE http://backend:8000/todo/bbd94aaf-9bd3-4b14-b221-7500266d9ead\n",
      "<user2> DELETE http://backend:8000/todo/af922d42-38f5-4d0c-8633-55d3c0312fe3\n",
      "<user5> DELETE http://backend:8000/todo/8fd934f5-8ff5-4c8f-bcc0-391bcd4dae6b\n"
     ]
    },
    {
     "data": {
      "text/plain": [
       "[None, None, None, None, None, None, None, None, None, None]"
      ]
     },
     "execution_count": 5,
     "metadata": {},
     "output_type": "execute_result"
    },
    {
     "data": {
      "application/javascript": [
       "\n",
       "            setTimeout(function() {\n",
       "                var nbb_cell_id = 5;\n",
       "                var nbb_unformatted_code = \"await asyncio.gather(*coros)\";\n",
       "                var nbb_formatted_code = \"await asyncio.gather(*coros)\";\n",
       "                var nbb_cells = Jupyter.notebook.get_cells();\n",
       "                for (var i = 0; i < nbb_cells.length; ++i) {\n",
       "                    if (nbb_cells[i].input_prompt_number == nbb_cell_id) {\n",
       "                        if (nbb_cells[i].get_text() == nbb_unformatted_code) {\n",
       "                             nbb_cells[i].set_text(nbb_formatted_code);\n",
       "                        }\n",
       "                        break;\n",
       "                    }\n",
       "                }\n",
       "            }, 500);\n",
       "            "
      ],
      "text/plain": [
       "<IPython.core.display.Javascript object>"
      ]
     },
     "metadata": {},
     "output_type": "display_data"
    }
   ],
   "source": [
    "await asyncio.gather(*coros)"
   ]
  },
  {
   "cell_type": "code",
   "execution_count": null,
   "id": "643952df",
   "metadata": {},
   "outputs": [],
   "source": []
  },
  {
   "cell_type": "code",
   "execution_count": null,
   "id": "c00376ce",
   "metadata": {},
   "outputs": [],
   "source": []
  }
 ],
 "metadata": {
  "kernelspec": {
   "display_name": "Python 3 (ipykernel)",
   "language": "python",
   "name": "python3"
  },
  "language_info": {
   "codemirror_mode": {
    "name": "ipython",
    "version": 3
   },
   "file_extension": ".py",
   "mimetype": "text/x-python",
   "name": "python",
   "nbconvert_exporter": "python",
   "pygments_lexer": "ipython3",
   "version": "3.9.7"
  },
  "toc": {
   "base_numbering": 1,
   "nav_menu": {},
   "number_sections": true,
   "sideBar": true,
   "skip_h1_title": false,
   "title_cell": "Table of Contents",
   "title_sidebar": "Contents",
   "toc_cell": false,
   "toc_position": {},
   "toc_section_display": true,
   "toc_window_display": true
  }
 },
 "nbformat": 4,
 "nbformat_minor": 5
}
