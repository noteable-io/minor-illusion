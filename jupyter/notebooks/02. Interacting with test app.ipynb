{
 "cells": [
  {
   "cell_type": "markdown",
   "id": "9f2b6212",
   "metadata": {},
   "source": [
    "# Overview\n",
    "\n",
    "This Notebook demonstrates how to interact with the test app API.  Remember that you can see the documented endpoints at http://localhost:8000/docs.  Note that the `base_url` in our client says `backend:8000`, which is the right domain for code in the Jupyter container to communicate to the test app in the same docker network.  Your browser is not in that docker network, which is why it's navigating to `localhost:8000`."
   ]
  },
  {
   "cell_type": "code",
   "execution_count": 1,
   "id": "f7600fab",
   "metadata": {
    "ExecuteTime": {
     "end_time": "2021-10-29T13:38:22.016517Z",
     "start_time": "2021-10-29T13:38:21.905084Z"
    }
   },
   "outputs": [
    {
     "data": {
      "application/javascript": [
       "\n",
       "            setTimeout(function() {\n",
       "                var nbb_cell_id = 1;\n",
       "                var nbb_unformatted_code = \"%load_ext nb_black\";\n",
       "                var nbb_formatted_code = \"%load_ext nb_black\";\n",
       "                var nbb_cells = Jupyter.notebook.get_cells();\n",
       "                for (var i = 0; i < nbb_cells.length; ++i) {\n",
       "                    if (nbb_cells[i].input_prompt_number == nbb_cell_id) {\n",
       "                        if (nbb_cells[i].get_text() == nbb_unformatted_code) {\n",
       "                             nbb_cells[i].set_text(nbb_formatted_code);\n",
       "                        }\n",
       "                        break;\n",
       "                    }\n",
       "                }\n",
       "            }, 500);\n",
       "            "
      ],
      "text/plain": [
       "<IPython.core.display.Javascript object>"
      ]
     },
     "metadata": {},
     "output_type": "display_data"
    }
   ],
   "source": [
    "%load_ext nb_black"
   ]
  },
  {
   "cell_type": "code",
   "execution_count": 2,
   "id": "744b98f7",
   "metadata": {
    "ExecuteTime": {
     "end_time": "2021-10-29T13:38:22.526514Z",
     "start_time": "2021-10-29T13:38:22.019728Z"
    }
   },
   "outputs": [
    {
     "data": {
      "text/plain": [
       "<httpx.Client at 0x7fe962e672e0>"
      ]
     },
     "execution_count": 2,
     "metadata": {},
     "output_type": "execute_result"
    },
    {
     "data": {
      "application/javascript": [
       "\n",
       "            setTimeout(function() {\n",
       "                var nbb_cell_id = 2;\n",
       "                var nbb_unformatted_code = \"import httpx\\n\\nclient = httpx.Client(base_url=\\\"http://backend:8000\\\", follow_redirects=True)\\nclient\";\n",
       "                var nbb_formatted_code = \"import httpx\\n\\nclient = httpx.Client(base_url=\\\"http://backend:8000\\\", follow_redirects=True)\\nclient\";\n",
       "                var nbb_cells = Jupyter.notebook.get_cells();\n",
       "                for (var i = 0; i < nbb_cells.length; ++i) {\n",
       "                    if (nbb_cells[i].input_prompt_number == nbb_cell_id) {\n",
       "                        if (nbb_cells[i].get_text() == nbb_unformatted_code) {\n",
       "                             nbb_cells[i].set_text(nbb_formatted_code);\n",
       "                        }\n",
       "                        break;\n",
       "                    }\n",
       "                }\n",
       "            }, 500);\n",
       "            "
      ],
      "text/plain": [
       "<IPython.core.display.Javascript object>"
      ]
     },
     "metadata": {},
     "output_type": "display_data"
    }
   ],
   "source": [
    "import httpx\n",
    "\n",
    "client = httpx.Client(base_url=\"http://backend:8000\", follow_redirects=True)\n",
    "client"
   ]
  },
  {
   "cell_type": "markdown",
   "id": "fb76c5a0",
   "metadata": {},
   "source": [
    "# Login\n",
    "\n",
    "Before we can do anything with the Todo endpoints we need to log in"
   ]
  },
  {
   "cell_type": "code",
   "execution_count": 3,
   "id": "4dd238a0",
   "metadata": {
    "ExecuteTime": {
     "end_time": "2021-10-29T13:38:22.973611Z",
     "start_time": "2021-10-29T13:38:22.528364Z"
    }
   },
   "outputs": [
    {
     "data": {
      "text/plain": [
       "<Response [401 Unauthorized]>"
      ]
     },
     "execution_count": 3,
     "metadata": {},
     "output_type": "execute_result"
    },
    {
     "data": {
      "application/javascript": [
       "\n",
       "            setTimeout(function() {\n",
       "                var nbb_cell_id = 3;\n",
       "                var nbb_unformatted_code = \"resp = client.get(\\\"/me\\\")\\nresp\";\n",
       "                var nbb_formatted_code = \"resp = client.get(\\\"/me\\\")\\nresp\";\n",
       "                var nbb_cells = Jupyter.notebook.get_cells();\n",
       "                for (var i = 0; i < nbb_cells.length; ++i) {\n",
       "                    if (nbb_cells[i].input_prompt_number == nbb_cell_id) {\n",
       "                        if (nbb_cells[i].get_text() == nbb_unformatted_code) {\n",
       "                             nbb_cells[i].set_text(nbb_formatted_code);\n",
       "                        }\n",
       "                        break;\n",
       "                    }\n",
       "                }\n",
       "            }, 500);\n",
       "            "
      ],
      "text/plain": [
       "<IPython.core.display.Javascript object>"
      ]
     },
     "metadata": {},
     "output_type": "display_data"
    }
   ],
   "source": [
    "resp = client.get(\"/me\")\n",
    "resp"
   ]
  },
  {
   "cell_type": "code",
   "execution_count": 4,
   "id": "76c04620",
   "metadata": {
    "ExecuteTime": {
     "end_time": "2021-10-29T13:38:23.314729Z",
     "start_time": "2021-10-29T13:38:22.977542Z"
    }
   },
   "outputs": [
    {
     "data": {
      "text/plain": [
       "{'detail': 'Not authenticated'}"
      ]
     },
     "execution_count": 4,
     "metadata": {},
     "output_type": "execute_result"
    },
    {
     "data": {
      "application/javascript": [
       "\n",
       "            setTimeout(function() {\n",
       "                var nbb_cell_id = 4;\n",
       "                var nbb_unformatted_code = \"resp.json()\";\n",
       "                var nbb_formatted_code = \"resp.json()\";\n",
       "                var nbb_cells = Jupyter.notebook.get_cells();\n",
       "                for (var i = 0; i < nbb_cells.length; ++i) {\n",
       "                    if (nbb_cells[i].input_prompt_number == nbb_cell_id) {\n",
       "                        if (nbb_cells[i].get_text() == nbb_unformatted_code) {\n",
       "                             nbb_cells[i].set_text(nbb_formatted_code);\n",
       "                        }\n",
       "                        break;\n",
       "                    }\n",
       "                }\n",
       "            }, 500);\n",
       "            "
      ],
      "text/plain": [
       "<IPython.core.display.Javascript object>"
      ]
     },
     "metadata": {},
     "output_type": "display_data"
    }
   ],
   "source": [
    "resp.json()"
   ]
  },
  {
   "cell_type": "code",
   "execution_count": 5,
   "id": "01b92780",
   "metadata": {
    "ExecuteTime": {
     "end_time": "2021-10-29T13:38:23.995008Z",
     "start_time": "2021-10-29T13:38:23.316780Z"
    }
   },
   "outputs": [
    {
     "data": {
      "text/plain": [
       "<Response [200 OK]>"
      ]
     },
     "execution_count": 5,
     "metadata": {},
     "output_type": "execute_result"
    },
    {
     "data": {
      "application/javascript": [
       "\n",
       "            setTimeout(function() {\n",
       "                var nbb_cell_id = 5;\n",
       "                var nbb_unformatted_code = \"endpoint = \\\"/auth/login\\\"\\ndata = {\\\"username\\\": \\\"user1\\\", \\\"password\\\": \\\"pass\\\"}\\n\\nresp = client.post(endpoint, data=data)\\nresp\";\n",
       "                var nbb_formatted_code = \"endpoint = \\\"/auth/login\\\"\\ndata = {\\\"username\\\": \\\"user1\\\", \\\"password\\\": \\\"pass\\\"}\\n\\nresp = client.post(endpoint, data=data)\\nresp\";\n",
       "                var nbb_cells = Jupyter.notebook.get_cells();\n",
       "                for (var i = 0; i < nbb_cells.length; ++i) {\n",
       "                    if (nbb_cells[i].input_prompt_number == nbb_cell_id) {\n",
       "                        if (nbb_cells[i].get_text() == nbb_unformatted_code) {\n",
       "                             nbb_cells[i].set_text(nbb_formatted_code);\n",
       "                        }\n",
       "                        break;\n",
       "                    }\n",
       "                }\n",
       "            }, 500);\n",
       "            "
      ],
      "text/plain": [
       "<IPython.core.display.Javascript object>"
      ]
     },
     "metadata": {},
     "output_type": "display_data"
    }
   ],
   "source": [
    "endpoint = \"/auth/login\"\n",
    "data = {\"username\": \"user1\", \"password\": \"pass\"}\n",
    "\n",
    "resp = client.post(endpoint, data=data)\n",
    "resp"
   ]
  },
  {
   "cell_type": "code",
   "execution_count": 6,
   "id": "4636ba71",
   "metadata": {
    "ExecuteTime": {
     "end_time": "2021-10-29T13:38:24.455111Z",
     "start_time": "2021-10-29T13:38:23.997128Z"
    }
   },
   "outputs": [
    {
     "data": {
      "text/plain": [
       "{'access_token': 'user1', 'token_type': 'bearer'}"
      ]
     },
     "execution_count": 6,
     "metadata": {},
     "output_type": "execute_result"
    },
    {
     "data": {
      "application/javascript": [
       "\n",
       "            setTimeout(function() {\n",
       "                var nbb_cell_id = 6;\n",
       "                var nbb_unformatted_code = \"resp.json()\";\n",
       "                var nbb_formatted_code = \"resp.json()\";\n",
       "                var nbb_cells = Jupyter.notebook.get_cells();\n",
       "                for (var i = 0; i < nbb_cells.length; ++i) {\n",
       "                    if (nbb_cells[i].input_prompt_number == nbb_cell_id) {\n",
       "                        if (nbb_cells[i].get_text() == nbb_unformatted_code) {\n",
       "                             nbb_cells[i].set_text(nbb_formatted_code);\n",
       "                        }\n",
       "                        break;\n",
       "                    }\n",
       "                }\n",
       "            }, 500);\n",
       "            "
      ],
      "text/plain": [
       "<IPython.core.display.Javascript object>"
      ]
     },
     "metadata": {},
     "output_type": "display_data"
    }
   ],
   "source": [
    "resp.json()"
   ]
  },
  {
   "cell_type": "code",
   "execution_count": 7,
   "id": "30e9a62a",
   "metadata": {
    "ExecuteTime": {
     "end_time": "2021-10-29T13:38:25.220521Z",
     "start_time": "2021-10-29T13:38:24.457291Z"
    }
   },
   "outputs": [
    {
     "data": {
      "text/plain": [
       "<Response [200 OK]>"
      ]
     },
     "execution_count": 7,
     "metadata": {},
     "output_type": "execute_result"
    },
    {
     "data": {
      "application/javascript": [
       "\n",
       "            setTimeout(function() {\n",
       "                var nbb_cell_id = 7;\n",
       "                var nbb_unformatted_code = \"client.headers[\\\"Authorization\\\"] = \\\"bearer user1\\\"\\nresp = client.get(\\\"/me\\\")\\nresp\";\n",
       "                var nbb_formatted_code = \"client.headers[\\\"Authorization\\\"] = \\\"bearer user1\\\"\\nresp = client.get(\\\"/me\\\")\\nresp\";\n",
       "                var nbb_cells = Jupyter.notebook.get_cells();\n",
       "                for (var i = 0; i < nbb_cells.length; ++i) {\n",
       "                    if (nbb_cells[i].input_prompt_number == nbb_cell_id) {\n",
       "                        if (nbb_cells[i].get_text() == nbb_unformatted_code) {\n",
       "                             nbb_cells[i].set_text(nbb_formatted_code);\n",
       "                        }\n",
       "                        break;\n",
       "                    }\n",
       "                }\n",
       "            }, 500);\n",
       "            "
      ],
      "text/plain": [
       "<IPython.core.display.Javascript object>"
      ]
     },
     "metadata": {},
     "output_type": "display_data"
    }
   ],
   "source": [
    "client.headers[\"Authorization\"] = \"bearer user1\"\n",
    "resp = client.get(\"/me\")\n",
    "resp"
   ]
  },
  {
   "cell_type": "code",
   "execution_count": 8,
   "id": "7fa14cde",
   "metadata": {
    "ExecuteTime": {
     "end_time": "2021-10-29T13:38:25.815121Z",
     "start_time": "2021-10-29T13:38:25.222973Z"
    }
   },
   "outputs": [
    {
     "data": {
      "text/plain": [
       "{'id': '9feeed1d-833e-4fd1-a3c0-0e0980688561',\n",
       " 'created_at': '2021-10-29T13:38:04.073930+00:00',\n",
       " 'name': 'user1'}"
      ]
     },
     "execution_count": 8,
     "metadata": {},
     "output_type": "execute_result"
    },
    {
     "data": {
      "application/javascript": [
       "\n",
       "            setTimeout(function() {\n",
       "                var nbb_cell_id = 8;\n",
       "                var nbb_unformatted_code = \"resp.json()\";\n",
       "                var nbb_formatted_code = \"resp.json()\";\n",
       "                var nbb_cells = Jupyter.notebook.get_cells();\n",
       "                for (var i = 0; i < nbb_cells.length; ++i) {\n",
       "                    if (nbb_cells[i].input_prompt_number == nbb_cell_id) {\n",
       "                        if (nbb_cells[i].get_text() == nbb_unformatted_code) {\n",
       "                             nbb_cells[i].set_text(nbb_formatted_code);\n",
       "                        }\n",
       "                        break;\n",
       "                    }\n",
       "                }\n",
       "            }, 500);\n",
       "            "
      ],
      "text/plain": [
       "<IPython.core.display.Javascript object>"
      ]
     },
     "metadata": {},
     "output_type": "display_data"
    }
   ],
   "source": [
    "resp.json()"
   ]
  },
  {
   "cell_type": "code",
   "execution_count": 9,
   "id": "e3d61432",
   "metadata": {
    "ExecuteTime": {
     "end_time": "2021-10-29T13:38:26.623718Z",
     "start_time": "2021-10-29T13:38:25.817818Z"
    }
   },
   "outputs": [
    {
     "data": {
      "text/plain": [
       "Headers({'host': 'backend:8000', 'accept': '*/*', 'accept-encoding': 'gzip, deflate, br', 'connection': 'keep-alive', 'user-agent': 'python-httpx/0.20.0', 'authorization': '[secure]'})"
      ]
     },
     "execution_count": 9,
     "metadata": {},
     "output_type": "execute_result"
    },
    {
     "data": {
      "application/javascript": [
       "\n",
       "            setTimeout(function() {\n",
       "                var nbb_cell_id = 9;\n",
       "                var nbb_unformatted_code = \"resp.request.headers\";\n",
       "                var nbb_formatted_code = \"resp.request.headers\";\n",
       "                var nbb_cells = Jupyter.notebook.get_cells();\n",
       "                for (var i = 0; i < nbb_cells.length; ++i) {\n",
       "                    if (nbb_cells[i].input_prompt_number == nbb_cell_id) {\n",
       "                        if (nbb_cells[i].get_text() == nbb_unformatted_code) {\n",
       "                             nbb_cells[i].set_text(nbb_formatted_code);\n",
       "                        }\n",
       "                        break;\n",
       "                    }\n",
       "                }\n",
       "            }, 500);\n",
       "            "
      ],
      "text/plain": [
       "<IPython.core.display.Javascript object>"
      ]
     },
     "metadata": {},
     "output_type": "display_data"
    }
   ],
   "source": [
    "resp.request.headers"
   ]
  },
  {
   "cell_type": "markdown",
   "id": "81286b90",
   "metadata": {},
   "source": [
    "# Get todos"
   ]
  },
  {
   "cell_type": "code",
   "execution_count": 10,
   "id": "fe8a2e82",
   "metadata": {
    "ExecuteTime": {
     "end_time": "2021-10-29T13:38:27.287366Z",
     "start_time": "2021-10-29T13:38:26.628096Z"
    }
   },
   "outputs": [
    {
     "data": {
      "text/plain": [
       "<Response [200 OK]>"
      ]
     },
     "execution_count": 10,
     "metadata": {},
     "output_type": "execute_result"
    },
    {
     "data": {
      "application/javascript": [
       "\n",
       "            setTimeout(function() {\n",
       "                var nbb_cell_id = 10;\n",
       "                var nbb_unformatted_code = \"resp = client.get(\\\"/todo\\\")\\nresp\";\n",
       "                var nbb_formatted_code = \"resp = client.get(\\\"/todo\\\")\\nresp\";\n",
       "                var nbb_cells = Jupyter.notebook.get_cells();\n",
       "                for (var i = 0; i < nbb_cells.length; ++i) {\n",
       "                    if (nbb_cells[i].input_prompt_number == nbb_cell_id) {\n",
       "                        if (nbb_cells[i].get_text() == nbb_unformatted_code) {\n",
       "                             nbb_cells[i].set_text(nbb_formatted_code);\n",
       "                        }\n",
       "                        break;\n",
       "                    }\n",
       "                }\n",
       "            }, 500);\n",
       "            "
      ],
      "text/plain": [
       "<IPython.core.display.Javascript object>"
      ]
     },
     "metadata": {},
     "output_type": "display_data"
    }
   ],
   "source": [
    "resp = client.get(\"/todo\")\n",
    "resp"
   ]
  },
  {
   "cell_type": "code",
   "execution_count": 11,
   "id": "b0400219",
   "metadata": {
    "ExecuteTime": {
     "end_time": "2021-10-29T13:38:28.549752Z",
     "start_time": "2021-10-29T13:38:27.290065Z"
    }
   },
   "outputs": [
    {
     "data": {
      "text/plain": [
       "[{'id': '2f262a8f-58e5-4f89-aff1-f9ac19d9efe8',\n",
       "  'created_at': '2021-10-29T13:38:04.073930+00:00',\n",
       "  'title': 'Note 4',\n",
       "  'content': 'Reminder: make more Notes'},\n",
       " {'id': 'c8721eab-8e77-42fd-ae16-f2047d4e3149',\n",
       "  'created_at': '2021-10-29T13:38:11.955925+00:00',\n",
       "  'title': 'string',\n",
       "  'content': 'string'},\n",
       " {'id': 'a337136c-3eea-4f6d-bb84-c16c7ea2bea5',\n",
       "  'created_at': '2021-10-29T13:38:04.073930+00:00',\n",
       "  'title': 'Note 1',\n",
       "  'content': 'My first Note'},\n",
       " {'id': '9f3abbc9-cf9d-4576-9c8a-d6c5747af157',\n",
       "  'created_at': '2021-10-29T13:38:04.073930+00:00',\n",
       "  'title': 'Note 3',\n",
       "  'content': 'So many Notes'},\n",
       " {'id': '9d667b2c-0547-4bac-9b86-714fced1023b',\n",
       "  'created_at': '2021-10-29T13:38:04.073930+00:00',\n",
       "  'title': 'Note 2',\n",
       "  'content': 'Edit this Note'}]"
      ]
     },
     "execution_count": 11,
     "metadata": {},
     "output_type": "execute_result"
    },
    {
     "data": {
      "application/javascript": [
       "\n",
       "            setTimeout(function() {\n",
       "                var nbb_cell_id = 11;\n",
       "                var nbb_unformatted_code = \"resp.json()\";\n",
       "                var nbb_formatted_code = \"resp.json()\";\n",
       "                var nbb_cells = Jupyter.notebook.get_cells();\n",
       "                for (var i = 0; i < nbb_cells.length; ++i) {\n",
       "                    if (nbb_cells[i].input_prompt_number == nbb_cell_id) {\n",
       "                        if (nbb_cells[i].get_text() == nbb_unformatted_code) {\n",
       "                             nbb_cells[i].set_text(nbb_formatted_code);\n",
       "                        }\n",
       "                        break;\n",
       "                    }\n",
       "                }\n",
       "            }, 500);\n",
       "            "
      ],
      "text/plain": [
       "<IPython.core.display.Javascript object>"
      ]
     },
     "metadata": {},
     "output_type": "display_data"
    }
   ],
   "source": [
    "resp.json()"
   ]
  },
  {
   "cell_type": "code",
   "execution_count": 12,
   "id": "87e68416",
   "metadata": {
    "ExecuteTime": {
     "end_time": "2021-10-29T13:38:29.205122Z",
     "start_time": "2021-10-29T13:38:28.552698Z"
    }
   },
   "outputs": [
    {
     "data": {
      "text/plain": [
       "[<Response [307 Temporary Redirect]>]"
      ]
     },
     "execution_count": 12,
     "metadata": {},
     "output_type": "execute_result"
    },
    {
     "data": {
      "application/javascript": [
       "\n",
       "            setTimeout(function() {\n",
       "                var nbb_cell_id = 12;\n",
       "                var nbb_unformatted_code = \"# note it followed a redirect!\\nresp.history\";\n",
       "                var nbb_formatted_code = \"# note it followed a redirect!\\nresp.history\";\n",
       "                var nbb_cells = Jupyter.notebook.get_cells();\n",
       "                for (var i = 0; i < nbb_cells.length; ++i) {\n",
       "                    if (nbb_cells[i].input_prompt_number == nbb_cell_id) {\n",
       "                        if (nbb_cells[i].get_text() == nbb_unformatted_code) {\n",
       "                             nbb_cells[i].set_text(nbb_formatted_code);\n",
       "                        }\n",
       "                        break;\n",
       "                    }\n",
       "                }\n",
       "            }, 500);\n",
       "            "
      ],
      "text/plain": [
       "<IPython.core.display.Javascript object>"
      ]
     },
     "metadata": {},
     "output_type": "display_data"
    }
   ],
   "source": [
    "# note it followed a redirect!\n",
    "resp.history"
   ]
  },
  {
   "cell_type": "code",
   "execution_count": 13,
   "id": "57749fef",
   "metadata": {
    "ExecuteTime": {
     "end_time": "2021-10-29T13:38:29.746474Z",
     "start_time": "2021-10-29T13:38:29.207249Z"
    }
   },
   "outputs": [
    {
     "data": {
      "text/plain": [
       "Headers({'date': 'Fri, 29 Oct 2021 13:38:22 GMT', 'server': 'uvicorn', 'location': 'http://backend:8000/todo/', 'transfer-encoding': 'chunked'})"
      ]
     },
     "execution_count": 13,
     "metadata": {},
     "output_type": "execute_result"
    },
    {
     "data": {
      "application/javascript": [
       "\n",
       "            setTimeout(function() {\n",
       "                var nbb_cell_id = 13;\n",
       "                var nbb_unformatted_code = \"resp.history[0].headers\";\n",
       "                var nbb_formatted_code = \"resp.history[0].headers\";\n",
       "                var nbb_cells = Jupyter.notebook.get_cells();\n",
       "                for (var i = 0; i < nbb_cells.length; ++i) {\n",
       "                    if (nbb_cells[i].input_prompt_number == nbb_cell_id) {\n",
       "                        if (nbb_cells[i].get_text() == nbb_unformatted_code) {\n",
       "                             nbb_cells[i].set_text(nbb_formatted_code);\n",
       "                        }\n",
       "                        break;\n",
       "                    }\n",
       "                }\n",
       "            }, 500);\n",
       "            "
      ],
      "text/plain": [
       "<IPython.core.display.Javascript object>"
      ]
     },
     "metadata": {},
     "output_type": "display_data"
    }
   ],
   "source": [
    "resp.history[0].headers"
   ]
  },
  {
   "cell_type": "markdown",
   "id": "81226965",
   "metadata": {},
   "source": [
    "# Make a todo"
   ]
  },
  {
   "cell_type": "code",
   "execution_count": 14,
   "id": "33f9ff55",
   "metadata": {
    "ExecuteTime": {
     "end_time": "2021-10-29T13:38:31.555652Z",
     "start_time": "2021-10-29T13:38:29.748717Z"
    }
   },
   "outputs": [
    {
     "data": {
      "text/plain": [
       "<Response [200 OK]>"
      ]
     },
     "execution_count": 14,
     "metadata": {},
     "output_type": "execute_result"
    },
    {
     "data": {
      "application/javascript": [
       "\n",
       "            setTimeout(function() {\n",
       "                var nbb_cell_id = 14;\n",
       "                var nbb_unformatted_code = \"data = {\\\"title\\\": \\\"programmatic Note\\\", \\\"content\\\": \\\"made from python\\\"}\\nresp = client.post(\\\"/todo\\\", json=data)\\nresp\";\n",
       "                var nbb_formatted_code = \"data = {\\\"title\\\": \\\"programmatic Note\\\", \\\"content\\\": \\\"made from python\\\"}\\nresp = client.post(\\\"/todo\\\", json=data)\\nresp\";\n",
       "                var nbb_cells = Jupyter.notebook.get_cells();\n",
       "                for (var i = 0; i < nbb_cells.length; ++i) {\n",
       "                    if (nbb_cells[i].input_prompt_number == nbb_cell_id) {\n",
       "                        if (nbb_cells[i].get_text() == nbb_unformatted_code) {\n",
       "                             nbb_cells[i].set_text(nbb_formatted_code);\n",
       "                        }\n",
       "                        break;\n",
       "                    }\n",
       "                }\n",
       "            }, 500);\n",
       "            "
      ],
      "text/plain": [
       "<IPython.core.display.Javascript object>"
      ]
     },
     "metadata": {},
     "output_type": "display_data"
    }
   ],
   "source": [
    "data = {\"title\": \"programmatic Note\", \"content\": \"made from python\"}\n",
    "resp = client.post(\"/todo\", json=data)\n",
    "resp"
   ]
  },
  {
   "cell_type": "code",
   "execution_count": 15,
   "id": "7adc5b02",
   "metadata": {
    "ExecuteTime": {
     "end_time": "2021-10-29T13:38:31.568007Z",
     "start_time": "2021-10-29T13:38:31.557954Z"
    }
   },
   "outputs": [
    {
     "data": {
      "text/plain": [
       "b'{\"title\": \"programmatic Note\", \"content\": \"made from python\"}'"
      ]
     },
     "execution_count": 15,
     "metadata": {},
     "output_type": "execute_result"
    },
    {
     "data": {
      "application/javascript": [
       "\n",
       "            setTimeout(function() {\n",
       "                var nbb_cell_id = 15;\n",
       "                var nbb_unformatted_code = \"resp.request.read()\";\n",
       "                var nbb_formatted_code = \"resp.request.read()\";\n",
       "                var nbb_cells = Jupyter.notebook.get_cells();\n",
       "                for (var i = 0; i < nbb_cells.length; ++i) {\n",
       "                    if (nbb_cells[i].input_prompt_number == nbb_cell_id) {\n",
       "                        if (nbb_cells[i].get_text() == nbb_unformatted_code) {\n",
       "                             nbb_cells[i].set_text(nbb_formatted_code);\n",
       "                        }\n",
       "                        break;\n",
       "                    }\n",
       "                }\n",
       "            }, 500);\n",
       "            "
      ],
      "text/plain": [
       "<IPython.core.display.Javascript object>"
      ]
     },
     "metadata": {},
     "output_type": "display_data"
    }
   ],
   "source": [
    "resp.request.read()"
   ]
  },
  {
   "cell_type": "code",
   "execution_count": 16,
   "id": "b79549f9",
   "metadata": {
    "ExecuteTime": {
     "end_time": "2021-10-29T13:38:32.022248Z",
     "start_time": "2021-10-29T13:38:31.570685Z"
    }
   },
   "outputs": [
    {
     "data": {
      "text/plain": [
       "{'id': '79ac12f9-d903-44c2-9ff0-11c3ea6f9f3d',\n",
       " 'created_at': '2021-10-29T13:38:30.459175+00:00',\n",
       " 'title': 'programmatic Note',\n",
       " 'content': 'made from python'}"
      ]
     },
     "execution_count": 16,
     "metadata": {},
     "output_type": "execute_result"
    },
    {
     "data": {
      "application/javascript": [
       "\n",
       "            setTimeout(function() {\n",
       "                var nbb_cell_id = 16;\n",
       "                var nbb_unformatted_code = \"resp.json()\";\n",
       "                var nbb_formatted_code = \"resp.json()\";\n",
       "                var nbb_cells = Jupyter.notebook.get_cells();\n",
       "                for (var i = 0; i < nbb_cells.length; ++i) {\n",
       "                    if (nbb_cells[i].input_prompt_number == nbb_cell_id) {\n",
       "                        if (nbb_cells[i].get_text() == nbb_unformatted_code) {\n",
       "                             nbb_cells[i].set_text(nbb_formatted_code);\n",
       "                        }\n",
       "                        break;\n",
       "                    }\n",
       "                }\n",
       "            }, 500);\n",
       "            "
      ],
      "text/plain": [
       "<IPython.core.display.Javascript object>"
      ]
     },
     "metadata": {},
     "output_type": "display_data"
    }
   ],
   "source": [
    "resp.json()"
   ]
  },
  {
   "cell_type": "code",
   "execution_count": 17,
   "id": "63f6bc62",
   "metadata": {
    "ExecuteTime": {
     "end_time": "2021-10-29T13:38:32.565405Z",
     "start_time": "2021-10-29T13:38:32.024955Z"
    }
   },
   "outputs": [
    {
     "data": {
      "text/plain": [
       "[{'id': '2f262a8f-58e5-4f89-aff1-f9ac19d9efe8',\n",
       "  'created_at': '2021-10-29T13:38:04.073930+00:00',\n",
       "  'title': 'Note 4',\n",
       "  'content': 'Reminder: make more Notes'},\n",
       " {'id': 'c8721eab-8e77-42fd-ae16-f2047d4e3149',\n",
       "  'created_at': '2021-10-29T13:38:11.955925+00:00',\n",
       "  'title': 'string',\n",
       "  'content': 'string'},\n",
       " {'id': 'a337136c-3eea-4f6d-bb84-c16c7ea2bea5',\n",
       "  'created_at': '2021-10-29T13:38:04.073930+00:00',\n",
       "  'title': 'Note 1',\n",
       "  'content': 'My first Note'},\n",
       " {'id': '9f3abbc9-cf9d-4576-9c8a-d6c5747af157',\n",
       "  'created_at': '2021-10-29T13:38:04.073930+00:00',\n",
       "  'title': 'Note 3',\n",
       "  'content': 'So many Notes'},\n",
       " {'id': '9d667b2c-0547-4bac-9b86-714fced1023b',\n",
       "  'created_at': '2021-10-29T13:38:04.073930+00:00',\n",
       "  'title': 'Note 2',\n",
       "  'content': 'Edit this Note'},\n",
       " {'id': '79ac12f9-d903-44c2-9ff0-11c3ea6f9f3d',\n",
       "  'created_at': '2021-10-29T13:38:30.459175+00:00',\n",
       "  'title': 'programmatic Note',\n",
       "  'content': 'made from python'}]"
      ]
     },
     "execution_count": 17,
     "metadata": {},
     "output_type": "execute_result"
    },
    {
     "data": {
      "application/javascript": [
       "\n",
       "            setTimeout(function() {\n",
       "                var nbb_cell_id = 17;\n",
       "                var nbb_unformatted_code = \"# check that it exists in the \\\"get all\\\" now\\nresp = client.get(\\\"/todo\\\")\\nresp.json()\";\n",
       "                var nbb_formatted_code = \"# check that it exists in the \\\"get all\\\" now\\nresp = client.get(\\\"/todo\\\")\\nresp.json()\";\n",
       "                var nbb_cells = Jupyter.notebook.get_cells();\n",
       "                for (var i = 0; i < nbb_cells.length; ++i) {\n",
       "                    if (nbb_cells[i].input_prompt_number == nbb_cell_id) {\n",
       "                        if (nbb_cells[i].get_text() == nbb_unformatted_code) {\n",
       "                             nbb_cells[i].set_text(nbb_formatted_code);\n",
       "                        }\n",
       "                        break;\n",
       "                    }\n",
       "                }\n",
       "            }, 500);\n",
       "            "
      ],
      "text/plain": [
       "<IPython.core.display.Javascript object>"
      ]
     },
     "metadata": {},
     "output_type": "display_data"
    }
   ],
   "source": [
    "# check that it exists in the \"get all\" now\n",
    "resp = client.get(\"/todo\")\n",
    "resp.json()"
   ]
  },
  {
   "cell_type": "markdown",
   "id": "01a73547",
   "metadata": {},
   "source": [
    "# Update a todo"
   ]
  },
  {
   "cell_type": "code",
   "execution_count": 18,
   "id": "9d63c344",
   "metadata": {
    "ExecuteTime": {
     "end_time": "2021-10-29T13:38:33.174132Z",
     "start_time": "2021-10-29T13:38:32.567588Z"
    }
   },
   "outputs": [
    {
     "data": {
      "text/plain": [
       "{'id': '2f262a8f-58e5-4f89-aff1-f9ac19d9efe8',\n",
       " 'created_at': '2021-10-29T13:38:04.073930+00:00',\n",
       " 'title': 'Note 4',\n",
       " 'content': 'Reminder: make more Notes'}"
      ]
     },
     "execution_count": 18,
     "metadata": {},
     "output_type": "execute_result"
    },
    {
     "data": {
      "application/javascript": [
       "\n",
       "            setTimeout(function() {\n",
       "                var nbb_cell_id = 18;\n",
       "                var nbb_unformatted_code = \"todo = resp.json()[0]\\ntodo\";\n",
       "                var nbb_formatted_code = \"todo = resp.json()[0]\\ntodo\";\n",
       "                var nbb_cells = Jupyter.notebook.get_cells();\n",
       "                for (var i = 0; i < nbb_cells.length; ++i) {\n",
       "                    if (nbb_cells[i].input_prompt_number == nbb_cell_id) {\n",
       "                        if (nbb_cells[i].get_text() == nbb_unformatted_code) {\n",
       "                             nbb_cells[i].set_text(nbb_formatted_code);\n",
       "                        }\n",
       "                        break;\n",
       "                    }\n",
       "                }\n",
       "            }, 500);\n",
       "            "
      ],
      "text/plain": [
       "<IPython.core.display.Javascript object>"
      ]
     },
     "metadata": {},
     "output_type": "display_data"
    }
   ],
   "source": [
    "todo = resp.json()[0]\n",
    "todo"
   ]
  },
  {
   "cell_type": "code",
   "execution_count": 19,
   "id": "5fe84180",
   "metadata": {
    "ExecuteTime": {
     "end_time": "2021-10-29T13:38:33.898693Z",
     "start_time": "2021-10-29T13:38:33.176695Z"
    }
   },
   "outputs": [
    {
     "data": {
      "text/plain": [
       "<Response [200 OK]>"
      ]
     },
     "execution_count": 19,
     "metadata": {},
     "output_type": "execute_result"
    },
    {
     "data": {
      "application/javascript": [
       "\n",
       "            setTimeout(function() {\n",
       "                var nbb_cell_id = 19;\n",
       "                var nbb_unformatted_code = \"_id = todo[\\\"id\\\"]\\nendpoint = f\\\"/todo/{_id}\\\"\\n\\ndata = {\\\"content\\\": \\\"updated by python\\\"}\\nresp = client.put(endpoint, data=data)\\nresp\";\n",
       "                var nbb_formatted_code = \"_id = todo[\\\"id\\\"]\\nendpoint = f\\\"/todo/{_id}\\\"\\n\\ndata = {\\\"content\\\": \\\"updated by python\\\"}\\nresp = client.put(endpoint, data=data)\\nresp\";\n",
       "                var nbb_cells = Jupyter.notebook.get_cells();\n",
       "                for (var i = 0; i < nbb_cells.length; ++i) {\n",
       "                    if (nbb_cells[i].input_prompt_number == nbb_cell_id) {\n",
       "                        if (nbb_cells[i].get_text() == nbb_unformatted_code) {\n",
       "                             nbb_cells[i].set_text(nbb_formatted_code);\n",
       "                        }\n",
       "                        break;\n",
       "                    }\n",
       "                }\n",
       "            }, 500);\n",
       "            "
      ],
      "text/plain": [
       "<IPython.core.display.Javascript object>"
      ]
     },
     "metadata": {},
     "output_type": "display_data"
    }
   ],
   "source": [
    "_id = todo[\"id\"]\n",
    "endpoint = f\"/todo/{_id}\"\n",
    "\n",
    "data = {\"content\": \"updated by python\"}\n",
    "resp = client.put(endpoint, data=data)\n",
    "resp"
   ]
  },
  {
   "cell_type": "code",
   "execution_count": 20,
   "id": "4e13bcab",
   "metadata": {
    "ExecuteTime": {
     "end_time": "2021-10-29T13:38:33.909567Z",
     "start_time": "2021-10-29T13:38:33.901582Z"
    }
   },
   "outputs": [
    {
     "data": {
      "text/plain": [
       "{'id': '2f262a8f-58e5-4f89-aff1-f9ac19d9efe8',\n",
       " 'created_at': '2021-10-29T13:38:04.073930+00:00',\n",
       " 'title': 'Note 4',\n",
       " 'content': 'updated by python'}"
      ]
     },
     "execution_count": 20,
     "metadata": {},
     "output_type": "execute_result"
    },
    {
     "data": {
      "application/javascript": [
       "\n",
       "            setTimeout(function() {\n",
       "                var nbb_cell_id = 20;\n",
       "                var nbb_unformatted_code = \"resp.json()\";\n",
       "                var nbb_formatted_code = \"resp.json()\";\n",
       "                var nbb_cells = Jupyter.notebook.get_cells();\n",
       "                for (var i = 0; i < nbb_cells.length; ++i) {\n",
       "                    if (nbb_cells[i].input_prompt_number == nbb_cell_id) {\n",
       "                        if (nbb_cells[i].get_text() == nbb_unformatted_code) {\n",
       "                             nbb_cells[i].set_text(nbb_formatted_code);\n",
       "                        }\n",
       "                        break;\n",
       "                    }\n",
       "                }\n",
       "            }, 500);\n",
       "            "
      ],
      "text/plain": [
       "<IPython.core.display.Javascript object>"
      ]
     },
     "metadata": {},
     "output_type": "display_data"
    }
   ],
   "source": [
    "resp.json()"
   ]
  },
  {
   "cell_type": "markdown",
   "id": "e473db67",
   "metadata": {},
   "source": [
    "# Delete a todo"
   ]
  },
  {
   "cell_type": "code",
   "execution_count": 21,
   "id": "56c2a2cd",
   "metadata": {
    "ExecuteTime": {
     "end_time": "2021-10-29T13:38:35.709359Z",
     "start_time": "2021-10-29T13:38:33.911480Z"
    }
   },
   "outputs": [
    {
     "data": {
      "text/plain": [
       "<Response [200 OK]>"
      ]
     },
     "execution_count": 21,
     "metadata": {},
     "output_type": "execute_result"
    },
    {
     "data": {
      "application/javascript": [
       "\n",
       "            setTimeout(function() {\n",
       "                var nbb_cell_id = 21;\n",
       "                var nbb_unformatted_code = \"resp = client.delete(endpoint)\\nresp\";\n",
       "                var nbb_formatted_code = \"resp = client.delete(endpoint)\\nresp\";\n",
       "                var nbb_cells = Jupyter.notebook.get_cells();\n",
       "                for (var i = 0; i < nbb_cells.length; ++i) {\n",
       "                    if (nbb_cells[i].input_prompt_number == nbb_cell_id) {\n",
       "                        if (nbb_cells[i].get_text() == nbb_unformatted_code) {\n",
       "                             nbb_cells[i].set_text(nbb_formatted_code);\n",
       "                        }\n",
       "                        break;\n",
       "                    }\n",
       "                }\n",
       "            }, 500);\n",
       "            "
      ],
      "text/plain": [
       "<IPython.core.display.Javascript object>"
      ]
     },
     "metadata": {},
     "output_type": "display_data"
    }
   ],
   "source": [
    "resp = client.delete(endpoint)\n",
    "resp"
   ]
  },
  {
   "cell_type": "code",
   "execution_count": 22,
   "id": "818d5b93",
   "metadata": {
    "ExecuteTime": {
     "end_time": "2021-10-29T13:38:37.301248Z",
     "start_time": "2021-10-29T13:38:35.711922Z"
    }
   },
   "outputs": [
    {
     "data": {
      "text/plain": [
       "<Response [404 Not Found]>"
      ]
     },
     "execution_count": 22,
     "metadata": {},
     "output_type": "execute_result"
    },
    {
     "data": {
      "application/javascript": [
       "\n",
       "            setTimeout(function() {\n",
       "                var nbb_cell_id = 22;\n",
       "                var nbb_unformatted_code = \"# calling it again shows 404, already deleted\\nresp = client.delete(endpoint)\\nresp\";\n",
       "                var nbb_formatted_code = \"# calling it again shows 404, already deleted\\nresp = client.delete(endpoint)\\nresp\";\n",
       "                var nbb_cells = Jupyter.notebook.get_cells();\n",
       "                for (var i = 0; i < nbb_cells.length; ++i) {\n",
       "                    if (nbb_cells[i].input_prompt_number == nbb_cell_id) {\n",
       "                        if (nbb_cells[i].get_text() == nbb_unformatted_code) {\n",
       "                             nbb_cells[i].set_text(nbb_formatted_code);\n",
       "                        }\n",
       "                        break;\n",
       "                    }\n",
       "                }\n",
       "            }, 500);\n",
       "            "
      ],
      "text/plain": [
       "<IPython.core.display.Javascript object>"
      ]
     },
     "metadata": {},
     "output_type": "display_data"
    }
   ],
   "source": [
    "# calling it again shows 404, already deleted\n",
    "resp = client.delete(endpoint)\n",
    "resp"
   ]
  },
  {
   "cell_type": "code",
   "execution_count": null,
   "id": "8a5a4c86",
   "metadata": {},
   "outputs": [],
   "source": []
  }
 ],
 "metadata": {
  "kernelspec": {
   "display_name": "Python 3 (ipykernel)",
   "language": "python",
   "name": "python3"
  },
  "language_info": {
   "codemirror_mode": {
    "name": "ipython",
    "version": 3
   },
   "file_extension": ".py",
   "mimetype": "text/x-python",
   "name": "python",
   "nbconvert_exporter": "python",
   "pygments_lexer": "ipython3",
   "version": "3.9.7"
  },
  "toc": {
   "base_numbering": 1,
   "nav_menu": {},
   "number_sections": true,
   "sideBar": true,
   "skip_h1_title": false,
   "title_cell": "Table of Contents",
   "title_sidebar": "Contents",
   "toc_cell": false,
   "toc_position": {},
   "toc_section_display": true,
   "toc_window_display": true
  }
 },
 "nbformat": 4,
 "nbformat_minor": 5
}
